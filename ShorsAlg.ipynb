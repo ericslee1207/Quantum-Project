{
 "metadata": {
  "language_info": {
   "codemirror_mode": {
    "name": "ipython",
    "version": 3
   },
   "file_extension": ".py",
   "mimetype": "text/x-python",
   "name": "python",
   "nbconvert_exporter": "python",
   "pygments_lexer": "ipython3",
   "version": "3.8.8"
  },
  "orig_nbformat": 4,
  "kernelspec": {
   "name": "python3",
   "display_name": "Python 3.8.8 64-bit ('base': conda)"
  },
  "interpreter": {
   "hash": "dca0ade3e726a953b501b15e8e990130d2b7799f14cfd9f4271676035ebe5511"
  }
 },
 "nbformat": 4,
 "nbformat_minor": 2,
 "cells": [
  {
   "cell_type": "code",
   "execution_count": 1,
   "source": [
    "from qiskit import QuantumRegister, ClassicalRegister, QuantumCircuit, Aer, transpile, assemble, circuit\n",
    "from qiskit.providers.aer import QasmSimulator\n",
    "from qiskit.visualization import plot_histogram\n",
    "import numpy as np"
   ],
   "outputs": [],
   "metadata": {}
  },
  {
   "cell_type": "code",
   "execution_count": 2,
   "source": [
    "def gcd(a,b):\n",
    "    if a < b:\n",
    "        return gcd(b,a)\n",
    "    if b == 0:\n",
    "        return a\n",
    "    return gcd(a%b, b)"
   ],
   "outputs": [],
   "metadata": {}
  },
  {
   "cell_type": "code",
   "execution_count": 3,
   "source": [
    "def mod_by_rep_square(num, repetitions, modulus):\n",
    "    for i in range(repetitions):\n",
    "        num = np.mod(num**2, modulus)\n",
    "    return num"
   ],
   "outputs": [],
   "metadata": {}
  },
  {
   "cell_type": "code",
   "execution_count": 4,
   "source": [
    "def exponent_to_factors(guess, exponent, num):\n",
    "    if exponent % 2 == 1:\n",
    "        return (1, num)\n",
    "    else:\n",
    "        return (gcd(guess ** exponent + 1, num), gcd(guess**exponent - 1, num))"
   ],
   "outputs": [],
   "metadata": {}
  },
  {
   "cell_type": "code",
   "execution_count": 28,
   "source": [
    "def ADD_circuit(bits, add):\n",
    "    \"\"\" Creates a Quantum Circuit that increments a register of qubits in the Fourier Space by the parameter add \"\"\"\n",
    "    c_add = QuantumCircuit(bits)\n",
    "    bin_add = bin(add)[2:]\n",
    "    while len(bin_add) < bits:\n",
    "        bin_add = '0' + bin_add\n",
    "    for cbit in range(len(bin_add)):\n",
    "        if bin_add[cbit] == '1':\n",
    "            for qbit in range(bits):\n",
    "                c_add.p( (np.pi/(2**(cbit - qbit))), bits - qbit - 1)\n",
    "    return c_add \n",
    "def ADD(bits, add):   \n",
    "    c_add = ADD_circuit(bits, add).to_instruction()\n",
    "    c_add.name = \"add {}\".format(add)\n",
    "    return c_add\n",
    "def CADD(bits, add):\n",
    "    c_add = ADD_circuit(bits, add)\n",
    "    c_add.name = \"add {}\".format(add)\n",
    "    return c_add.control(num_ctrl_qubits=1).to_instruction()"
   ],
   "outputs": [],
   "metadata": {}
  },
  {
   "cell_type": "code",
   "execution_count": 29,
   "source": [
    "def test_ADD(n1, n2, bits):\n",
    "    \"\"\" Use QFT, classical_add, and Inverse QFT to add two numbers \"\"\"\n",
    "    if n1 > (2**(bits - 2)) or n2 > (2**(bits - 2)):\n",
    "        raise OverflowError\n",
    "    bn1 = bin(n1)[2:]\n",
    "    while len(bn1) < bits:\n",
    "        bn1 = '0' + bn1\n",
    "    qr = QuantumRegister(bits, \"q\")\n",
    "    qc = QuantumCircuit(qr)\n",
    "    for bit in range(len(bn1)):\n",
    "        if bn1[bit] == '1':\n",
    "            qc.x(qr[bits - bit - 1])\n",
    "    where = []\n",
    "    for i in range(len(qr)):\n",
    "        where.append(qr[i])\n",
    "    qc.append(circuit.library.QFT(num_qubits = bits, do_swaps = False).to_instruction(), where)\n",
    "    qc.append(ADD(bits, n2), where)\n",
    "    qc.append(circuit.library.QFT(num_qubits = bits, do_swaps = False).inverse().to_instruction(), where)\n",
    "    qc.measure_all()\n",
    "    return qc"
   ],
   "outputs": [],
   "metadata": {}
  },
  {
   "cell_type": "code",
   "execution_count": 30,
   "source": [
    "q = test_ADD(1, 4, 4)\n",
    "q.draw()"
   ],
   "outputs": [
    {
     "output_type": "execute_result",
     "data": {
      "text/plain": [
       "        ┌───┐┌──────┐┌────────┐┌───────┐ ░ ┌─┐         \n",
       "   q_0: ┤ X ├┤0     ├┤0       ├┤0      ├─░─┤M├─────────\n",
       "        └───┘│      ││        ││       │ ░ └╥┘┌─┐      \n",
       "   q_1: ─────┤1     ├┤1       ├┤1      ├─░──╫─┤M├──────\n",
       "             │  qft ││  add 4 ││  iqft │ ░  ║ └╥┘┌─┐   \n",
       "   q_2: ─────┤2     ├┤2       ├┤2      ├─░──╫──╫─┤M├───\n",
       "             │      ││        ││       │ ░  ║  ║ └╥┘┌─┐\n",
       "   q_3: ─────┤3     ├┤3       ├┤3      ├─░──╫──╫──╫─┤M├\n",
       "             └──────┘└────────┘└───────┘ ░  ║  ║  ║ └╥┘\n",
       "meas: 4/════════════════════════════════════╩══╩══╩══╩═\n",
       "                                            0  1  2  3 "
      ],
      "text/html": [
       "<pre style=\"word-wrap: normal;white-space: pre;background: #fff0;line-height: 1.1;font-family: &quot;Courier New&quot;,Courier,monospace\">        ┌───┐┌──────┐┌────────┐┌───────┐ ░ ┌─┐         \n",
       "   q_0: ┤ X ├┤0     ├┤0       ├┤0      ├─░─┤M├─────────\n",
       "        └───┘│      ││        ││       │ ░ └╥┘┌─┐      \n",
       "   q_1: ─────┤1     ├┤1       ├┤1      ├─░──╫─┤M├──────\n",
       "             │  qft ││  add 4 ││  iqft │ ░  ║ └╥┘┌─┐   \n",
       "   q_2: ─────┤2     ├┤2       ├┤2      ├─░──╫──╫─┤M├───\n",
       "             │      ││        ││       │ ░  ║  ║ └╥┘┌─┐\n",
       "   q_3: ─────┤3     ├┤3       ├┤3      ├─░──╫──╫──╫─┤M├\n",
       "             └──────┘└────────┘└───────┘ ░  ║  ║  ║ └╥┘\n",
       "meas: 4/════════════════════════════════════╩══╩══╩══╩═\n",
       "                                            0  1  2  3 </pre>"
      ]
     },
     "metadata": {},
     "execution_count": 30
    }
   ],
   "metadata": {}
  },
  {
   "cell_type": "code",
   "execution_count": 31,
   "source": [
    "backend = QasmSimulator()\n",
    "q_comp = transpile(q, backend)\n",
    "job = backend.run(q_comp, shots = 10)\n",
    "result = job.result()\n",
    "result.get_counts(q_comp)"
   ],
   "outputs": [
    {
     "output_type": "execute_result",
     "data": {
      "text/plain": [
       "{'0101': 10}"
      ]
     },
     "metadata": {},
     "execution_count": 31
    }
   ],
   "metadata": {}
  },
  {
   "cell_type": "code",
   "execution_count": 32,
   "source": [
    "def MODADD(b, m, bits):\n",
    "    \"\"\" Use the Quantum_Add Gate to add to a number in the modular base \"\"\"\n",
    "    qr = QuantumRegister(bits, \"q\")\n",
    "    ar = QuantumRegister(1, \"a\")\n",
    "    qc = QuantumCircuit(qr, ar)\n",
    "    where = []\n",
    "    for i in range(bits):\n",
    "        where.append(qr[i])\n",
    "    qc.append(ADD(bits, b), where)\n",
    "    qc.append(ADD(bits, m).inverse(), where)\n",
    "    qc.append(circuit.library.QFT(num_qubits=bits, do_swaps=False).inverse().to_instruction(), where)\n",
    "    qc.cx(qr[bits-1],ar[0])\n",
    "    qc.append(circuit.library.QFT(num_qubits=bits, do_swaps=False).to_instruction(), where)\n",
    "    where2 = [ar[0]] + where\n",
    "    qc.append(CADD(bits, m), where2)\n",
    "    qc.append(ADD(bits, b).inverse(), where)\n",
    "    qc.append(circuit.library.QFT(num_qubits=bits, do_swaps=False).inverse().to_instruction(), where)\n",
    "    qc.x(qr[bits-1])\n",
    "    qc.cx(qr[bits-1],ar[0])\n",
    "    qc.x(qr[bits-1])\n",
    "    qc.append(circuit.library.QFT(num_qubits=bits, do_swaps=False).to_instruction(), where)\n",
    "    qc.append(ADD(bits, b), where)\n",
    "    return qc"
   ],
   "outputs": [],
   "metadata": {}
  },
  {
   "cell_type": "code",
   "execution_count": 33,
   "source": [
    "q = MODADD(4, 10, 5)\n",
    "q.draw()"
   ],
   "outputs": [
    {
     "output_type": "execute_result",
     "data": {
      "text/plain": [
       "     ┌────────┐┌────────────┐┌───────┐     ┌──────┐┌───────────┐┌───────────┐»\n",
       "q_0: ┤0       ├┤0           ├┤0      ├─────┤0     ├┤1          ├┤0          ├»\n",
       "     │        ││            ││       │     │      ││           ││           │»\n",
       "q_1: ┤1       ├┤1           ├┤1      ├─────┤1     ├┤2          ├┤1          ├»\n",
       "     │        ││            ││       │     │      ││           ││           │»\n",
       "q_2: ┤2 add 4 ├┤2 add 10_dg ├┤2 iqft ├─────┤2 qft ├┤3          ├┤2 add 4_dg ├»\n",
       "     │        ││            ││       │     │      ││  c_add 10 ││           │»\n",
       "q_3: ┤3       ├┤3           ├┤3      ├─────┤3     ├┤4          ├┤3          ├»\n",
       "     │        ││            ││       │     │      ││           ││           │»\n",
       "q_4: ┤4       ├┤4           ├┤4      ├──■──┤4     ├┤5          ├┤4          ├»\n",
       "     └────────┘└────────────┘└───────┘┌─┴─┐└──────┘│           │└───────────┘»\n",
       "a_0: ─────────────────────────────────┤ X ├────────┤0          ├─────────────»\n",
       "                                      └───┘        └───────────┘             »\n",
       "«     ┌───────┐               ┌──────┐┌────────┐\n",
       "«q_0: ┤0      ├───────────────┤0     ├┤0       ├\n",
       "«     │       │               │      ││        │\n",
       "«q_1: ┤1      ├───────────────┤1     ├┤1       ├\n",
       "«     │       │               │      ││        │\n",
       "«q_2: ┤2 iqft ├───────────────┤2 qft ├┤2 add 4 ├\n",
       "«     │       │               │      ││        │\n",
       "«q_3: ┤3      ├───────────────┤3     ├┤3       ├\n",
       "«     │       │┌───┐     ┌───┐│      ││        │\n",
       "«q_4: ┤4      ├┤ X ├──■──┤ X ├┤4     ├┤4       ├\n",
       "«     └───────┘└───┘┌─┴─┐└───┘└──────┘└────────┘\n",
       "«a_0: ──────────────┤ X ├───────────────────────\n",
       "«                   └───┘                       "
      ],
      "text/html": [
       "<pre style=\"word-wrap: normal;white-space: pre;background: #fff0;line-height: 1.1;font-family: &quot;Courier New&quot;,Courier,monospace\">     ┌────────┐┌────────────┐┌───────┐     ┌──────┐┌───────────┐┌───────────┐»\n",
       "q_0: ┤0       ├┤0           ├┤0      ├─────┤0     ├┤1          ├┤0          ├»\n",
       "     │        ││            ││       │     │      ││           ││           │»\n",
       "q_1: ┤1       ├┤1           ├┤1      ├─────┤1     ├┤2          ├┤1          ├»\n",
       "     │        ││            ││       │     │      ││           ││           │»\n",
       "q_2: ┤2 add 4 ├┤2 add 10_dg ├┤2 iqft ├─────┤2 qft ├┤3          ├┤2 add 4_dg ├»\n",
       "     │        ││            ││       │     │      ││  c_add 10 ││           │»\n",
       "q_3: ┤3       ├┤3           ├┤3      ├─────┤3     ├┤4          ├┤3          ├»\n",
       "     │        ││            ││       │     │      ││           ││           │»\n",
       "q_4: ┤4       ├┤4           ├┤4      ├──■──┤4     ├┤5          ├┤4          ├»\n",
       "     └────────┘└────────────┘└───────┘┌─┴─┐└──────┘│           │└───────────┘»\n",
       "a_0: ─────────────────────────────────┤ X ├────────┤0          ├─────────────»\n",
       "                                      └───┘        └───────────┘             »\n",
       "«     ┌───────┐               ┌──────┐┌────────┐\n",
       "«q_0: ┤0      ├───────────────┤0     ├┤0       ├\n",
       "«     │       │               │      ││        │\n",
       "«q_1: ┤1      ├───────────────┤1     ├┤1       ├\n",
       "«     │       │               │      ││        │\n",
       "«q_2: ┤2 iqft ├───────────────┤2 qft ├┤2 add 4 ├\n",
       "«     │       │               │      ││        │\n",
       "«q_3: ┤3      ├───────────────┤3     ├┤3       ├\n",
       "«     │       │┌───┐     ┌───┐│      ││        │\n",
       "«q_4: ┤4      ├┤ X ├──■──┤ X ├┤4     ├┤4       ├\n",
       "«     └───────┘└───┘┌─┴─┐└───┘└──────┘└────────┘\n",
       "«a_0: ──────────────┤ X ├───────────────────────\n",
       "«                   └───┘                       </pre>"
      ]
     },
     "metadata": {},
     "execution_count": 33
    }
   ],
   "metadata": {}
  },
  {
   "cell_type": "code",
   "execution_count": 34,
   "source": [
    "def test_MODADD(a, b, m, bits):\n",
    "    \"\"\" Function to test the efficacy of the modular_add_gate\"\"\"\n",
    "    bina = bin(a)[2:]\n",
    "    while(len(bina) < bits):\n",
    "        bina = '0' + bina\n",
    "    qr = QuantumRegister(bits, \"q\")\n",
    "    ar = QuantumRegister(1, \"a\")\n",
    "    qc = QuantumCircuit(qr, ar)\n",
    "    for bit in range(len(bina)):\n",
    "        if bina[bit] == '1':\n",
    "            qc.x(qr[bits - bit - 1])\n",
    "    where = []\n",
    "    for i in range(len(qr)):\n",
    "        where.append(qr[i])\n",
    "    qc.append(circuit.library.QFT(num_qubits=bits, do_swaps=False).to_instruction(), where)\n",
    "    where2 = where + [ar[0]]\n",
    "    qc.append(MODADD(b, m, bits).to_instruction(), where2)\n",
    "    qc.append(circuit.library.QFT(num_qubits=bits, do_swaps=False).inverse().to_instruction(), where)\n",
    "    qc.measure_all()\n",
    "    return qc\n",
    "q = test_MODADD(1,4,6,6)\n",
    "q.draw()\n",
    "    "
   ],
   "outputs": [
    {
     "output_type": "execute_result",
     "data": {
      "text/plain": [
       "        ┌───┐┌──────┐┌──────────────┐┌───────┐ ░ ┌─┐                  \n",
       "   q_0: ┤ X ├┤0     ├┤0             ├┤0      ├─░─┤M├──────────────────\n",
       "        └───┘│      ││              ││       │ ░ └╥┘┌─┐               \n",
       "   q_1: ─────┤1     ├┤1             ├┤1      ├─░──╫─┤M├───────────────\n",
       "             │      ││              ││       │ ░  ║ └╥┘┌─┐            \n",
       "   q_2: ─────┤2     ├┤2             ├┤2      ├─░──╫──╫─┤M├────────────\n",
       "             │  qft ││              ││  iqft │ ░  ║  ║ └╥┘┌─┐         \n",
       "   q_3: ─────┤3     ├┤3 circuit-238 ├┤3      ├─░──╫──╫──╫─┤M├─────────\n",
       "             │      ││              ││       │ ░  ║  ║  ║ └╥┘┌─┐      \n",
       "   q_4: ─────┤4     ├┤4             ├┤4      ├─░──╫──╫──╫──╫─┤M├──────\n",
       "             │      ││              ││       │ ░  ║  ║  ║  ║ └╥┘┌─┐   \n",
       "   q_5: ─────┤5     ├┤5             ├┤5      ├─░──╫──╫──╫──╫──╫─┤M├───\n",
       "             └──────┘│              │└───────┘ ░  ║  ║  ║  ║  ║ └╥┘┌─┐\n",
       "   a_0: ─────────────┤6             ├──────────░──╫──╫──╫──╫──╫──╫─┤M├\n",
       "                     └──────────────┘          ░  ║  ║  ║  ║  ║  ║ └╥┘\n",
       "meas: 7/══════════════════════════════════════════╩══╩══╩══╩══╩══╩══╩═\n",
       "                                                  0  1  2  3  4  5  6 "
      ],
      "text/html": [
       "<pre style=\"word-wrap: normal;white-space: pre;background: #fff0;line-height: 1.1;font-family: &quot;Courier New&quot;,Courier,monospace\">        ┌───┐┌──────┐┌──────────────┐┌───────┐ ░ ┌─┐                  \n",
       "   q_0: ┤ X ├┤0     ├┤0             ├┤0      ├─░─┤M├──────────────────\n",
       "        └───┘│      ││              ││       │ ░ └╥┘┌─┐               \n",
       "   q_1: ─────┤1     ├┤1             ├┤1      ├─░──╫─┤M├───────────────\n",
       "             │      ││              ││       │ ░  ║ └╥┘┌─┐            \n",
       "   q_2: ─────┤2     ├┤2             ├┤2      ├─░──╫──╫─┤M├────────────\n",
       "             │  qft ││              ││  iqft │ ░  ║  ║ └╥┘┌─┐         \n",
       "   q_3: ─────┤3     ├┤3 circuit-238 ├┤3      ├─░──╫──╫──╫─┤M├─────────\n",
       "             │      ││              ││       │ ░  ║  ║  ║ └╥┘┌─┐      \n",
       "   q_4: ─────┤4     ├┤4             ├┤4      ├─░──╫──╫──╫──╫─┤M├──────\n",
       "             │      ││              ││       │ ░  ║  ║  ║  ║ └╥┘┌─┐   \n",
       "   q_5: ─────┤5     ├┤5             ├┤5      ├─░──╫──╫──╫──╫──╫─┤M├───\n",
       "             └──────┘│              │└───────┘ ░  ║  ║  ║  ║  ║ └╥┘┌─┐\n",
       "   a_0: ─────────────┤6             ├──────────░──╫──╫──╫──╫──╫──╫─┤M├\n",
       "                     └──────────────┘          ░  ║  ║  ║  ║  ║  ║ └╥┘\n",
       "meas: 7/══════════════════════════════════════════╩══╩══╩══╩══╩══╩══╩═\n",
       "                                                  0  1  2  3  4  5  6 </pre>"
      ]
     },
     "metadata": {},
     "execution_count": 34
    }
   ],
   "metadata": {}
  },
  {
   "cell_type": "code",
   "execution_count": 35,
   "source": [
    "q_comp = transpile(q, backend)\n",
    "job = backend.run(q_comp, shots = 10)\n",
    "result = job.result()\n",
    "result.get_counts(q_comp)"
   ],
   "outputs": [
    {
     "output_type": "execute_result",
     "data": {
      "text/plain": [
       "{'0000101': 10}"
      ]
     },
     "metadata": {},
     "execution_count": 35
    }
   ],
   "metadata": {}
  },
  {
   "cell_type": "code",
   "execution_count": 36,
   "source": [
    "def DCMODADD(b, m, bits):\n",
    "    \"\"\" Doubly Controlled Modular Addition Gate (in the Fourier Space)\"\"\"\n",
    "    qc = MODADD(b, m, bits)\n",
    "    qc = qc.decompose()\n",
    "    qc.name = \"add {} mod {}\".format(b, m)\n",
    "    return qc.control(num_ctrl_qubits = 2)"
   ],
   "outputs": [],
   "metadata": {}
  },
  {
   "cell_type": "code",
   "execution_count": 37,
   "source": [
    "qc = DCMODADD(2, 4, 7)\n",
    "qc.draw()"
   ],
   "outputs": [
    {
     "output_type": "execute_result",
     "data": {
      "text/plain": [
       "                        \n",
       "q153_0: ───────■────────\n",
       "               │        \n",
       "q153_1: ───────■────────\n",
       "        ┌──────┴───────┐\n",
       "   q_0: ┤0             ├\n",
       "        │              │\n",
       "   q_1: ┤1             ├\n",
       "        │              │\n",
       "   q_2: ┤2             ├\n",
       "        │              │\n",
       "   q_3: ┤3             ├\n",
       "        │  add 2 mod 4 │\n",
       "   q_4: ┤4             ├\n",
       "        │              │\n",
       "   q_5: ┤5             ├\n",
       "        │              │\n",
       "   q_6: ┤6             ├\n",
       "        │              │\n",
       "   a_0: ┤7             ├\n",
       "        └──────────────┘"
      ],
      "text/html": [
       "<pre style=\"word-wrap: normal;white-space: pre;background: #fff0;line-height: 1.1;font-family: &quot;Courier New&quot;,Courier,monospace\">                        \n",
       "q153_0: ───────■────────\n",
       "               │        \n",
       "q153_1: ───────■────────\n",
       "        ┌──────┴───────┐\n",
       "   q_0: ┤0             ├\n",
       "        │              │\n",
       "   q_1: ┤1             ├\n",
       "        │              │\n",
       "   q_2: ┤2             ├\n",
       "        │              │\n",
       "   q_3: ┤3             ├\n",
       "        │  add 2 mod 4 │\n",
       "   q_4: ┤4             ├\n",
       "        │              │\n",
       "   q_5: ┤5             ├\n",
       "        │              │\n",
       "   q_6: ┤6             ├\n",
       "        │              │\n",
       "   a_0: ┤7             ├\n",
       "        └──────────────┘</pre>"
      ]
     },
     "metadata": {},
     "execution_count": 37
    }
   ],
   "metadata": {}
  },
  {
   "cell_type": "code",
   "execution_count": 38,
   "source": [
    "def AFFMULT(a, m, bits):\n",
    "    \"\"\" Given an x in the computational basis, return ax + the value in the b register in the Fourier Space\"\"\"\n",
    "    cr = QuantumRegister(1, 'c')\n",
    "    xr = QuantumRegister(bits, 'x')\n",
    "    br = QuantumRegister(bits, 'b')\n",
    "    ar = QuantumRegister(1, 'a')\n",
    "    qc = QuantumCircuit(cr, xr, br, ar)\n",
    "    br_list = []\n",
    "    for i in range(bits):\n",
    "        br_list.append(br[i])\n",
    "    for i in range(bits):\n",
    "        where = br_list\n",
    "        where = [cr[0]] + [xr[i]] + br_list + [ar[0]]\n",
    "        qc.append(DCMODADD((2 ** i) * a, m, bits), where)\n",
    "    q = qc.to_instruction()\n",
    "    q.name = \"multiply {} mod {}\".format(a, m)\n",
    "    return q"
   ],
   "outputs": [],
   "metadata": {}
  },
  {
   "cell_type": "code",
   "execution_count": 39,
   "source": [
    "def test_AFFMULT(a, x, b, m, bits):\n",
    "    \"\"\" Function to test the efficacy of the CMULT Gate\"\"\"\n",
    "    cr = QuantumRegister(1, 'c')\n",
    "    xr = QuantumRegister(bits, 'x')\n",
    "    br = QuantumRegister(bits, 'b')\n",
    "    ar = QuantumRegister(1, 'a')\n",
    "    qc = QuantumCircuit(cr, xr, br, ar)\n",
    "    binx = bin(x)[2:]\n",
    "    while(len(binx) < bits):\n",
    "        binx = '0' + binx\n",
    "    for bit in range(len(binx)):\n",
    "        if binx[bit] == '1':\n",
    "            qc.x(xr[bits - bit - 1])\n",
    "    binb = bin(b)[2:]\n",
    "    while(len(binb) < bits):\n",
    "        binb = '0' + binb\n",
    "    for bit in range(len(binb)):\n",
    "        if binb[bit] == '1':\n",
    "            qc.x(br[bits - bit - 1])\n",
    "    br_list = []\n",
    "    for i in range(bits):\n",
    "        br_list.append(br[i])\n",
    "    qc.x(cr[0])\n",
    "    qc.append(circuit.library.QFT(num_qubits=bits, do_swaps=False).to_instruction(), br_list)\n",
    "    qc.append(AFFMULT(a, m, bits), range(2 * bits + 2))\n",
    "    qc.append(circuit.library.QFT(num_qubits=bits, do_swaps=False).inverse().to_instruction(), br_list)\n",
    "    qc.measure_all()\n",
    "    return qc\n",
    "qc = test_AFFMULT(1, 4, 1, 4, 4)\n",
    "qc.draw()"
   ],
   "outputs": [
    {
     "output_type": "execute_result",
     "data": {
      "text/plain": [
       "         ┌───┐        ┌───────────────────┐          ░ ┌─┐                     »\n",
       "    c_0: ┤ X ├────────┤0                  ├──────────░─┤M├─────────────────────»\n",
       "         └───┘        │                   │          ░ └╥┘┌─┐                  »\n",
       "    x_0: ─────────────┤1                  ├──────────░──╫─┤M├──────────────────»\n",
       "                      │                   │          ░  ║ └╥┘┌─┐               »\n",
       "    x_1: ─────────────┤2                  ├──────────░──╫──╫─┤M├───────────────»\n",
       "         ┌───┐        │                   │          ░  ║  ║ └╥┘┌─┐            »\n",
       "    x_2: ┤ X ├────────┤3                  ├──────────░──╫──╫──╫─┤M├────────────»\n",
       "         └───┘        │                   │          ░  ║  ║  ║ └╥┘┌─┐         »\n",
       "    x_3: ─────────────┤4                  ├──────────░──╫──╫──╫──╫─┤M├─────────»\n",
       "         ┌───┐┌──────┐│  multiply 1 mod 4 │┌───────┐ ░  ║  ║  ║  ║ └╥┘┌─┐      »\n",
       "    b_0: ┤ X ├┤0     ├┤5                  ├┤0      ├─░──╫──╫──╫──╫──╫─┤M├──────»\n",
       "         └───┘│      ││                   ││       │ ░  ║  ║  ║  ║  ║ └╥┘┌─┐   »\n",
       "    b_1: ─────┤1     ├┤6                  ├┤1      ├─░──╫──╫──╫──╫──╫──╫─┤M├───»\n",
       "              │  qft ││                   ││  iqft │ ░  ║  ║  ║  ║  ║  ║ └╥┘┌─┐»\n",
       "    b_2: ─────┤2     ├┤7                  ├┤2      ├─░──╫──╫──╫──╫──╫──╫──╫─┤M├»\n",
       "              │      ││                   ││       │ ░  ║  ║  ║  ║  ║  ║  ║ └╥┘»\n",
       "    b_3: ─────┤3     ├┤8                  ├┤3      ├─░──╫──╫──╫──╫──╫──╫──╫──╫─»\n",
       "              └──────┘│                   │└───────┘ ░  ║  ║  ║  ║  ║  ║  ║  ║ »\n",
       "    a_0: ─────────────┤9                  ├──────────░──╫──╫──╫──╫──╫──╫──╫──╫─»\n",
       "                      └───────────────────┘          ░  ║  ║  ║  ║  ║  ║  ║  ║ »\n",
       "meas: 10/═══════════════════════════════════════════════╩══╩══╩══╩══╩══╩══╩══╩═»\n",
       "                                                        0  1  2  3  4  5  6  7 »\n",
       "«               \n",
       "«    c_0: ──────\n",
       "«               \n",
       "«    x_0: ──────\n",
       "«               \n",
       "«    x_1: ──────\n",
       "«               \n",
       "«    x_2: ──────\n",
       "«               \n",
       "«    x_3: ──────\n",
       "«               \n",
       "«    b_0: ──────\n",
       "«               \n",
       "«    b_1: ──────\n",
       "«               \n",
       "«    b_2: ──────\n",
       "«         ┌─┐   \n",
       "«    b_3: ┤M├───\n",
       "«         └╥┘┌─┐\n",
       "«    a_0: ─╫─┤M├\n",
       "«          ║ └╥┘\n",
       "«meas: 10/═╩══╩═\n",
       "«          8  9 "
      ],
      "text/html": [
       "<pre style=\"word-wrap: normal;white-space: pre;background: #fff0;line-height: 1.1;font-family: &quot;Courier New&quot;,Courier,monospace\">         ┌───┐        ┌───────────────────┐          ░ ┌─┐                     »\n",
       "    c_0: ┤ X ├────────┤0                  ├──────────░─┤M├─────────────────────»\n",
       "         └───┘        │                   │          ░ └╥┘┌─┐                  »\n",
       "    x_0: ─────────────┤1                  ├──────────░──╫─┤M├──────────────────»\n",
       "                      │                   │          ░  ║ └╥┘┌─┐               »\n",
       "    x_1: ─────────────┤2                  ├──────────░──╫──╫─┤M├───────────────»\n",
       "         ┌───┐        │                   │          ░  ║  ║ └╥┘┌─┐            »\n",
       "    x_2: ┤ X ├────────┤3                  ├──────────░──╫──╫──╫─┤M├────────────»\n",
       "         └───┘        │                   │          ░  ║  ║  ║ └╥┘┌─┐         »\n",
       "    x_3: ─────────────┤4                  ├──────────░──╫──╫──╫──╫─┤M├─────────»\n",
       "         ┌───┐┌──────┐│  multiply 1 mod 4 │┌───────┐ ░  ║  ║  ║  ║ └╥┘┌─┐      »\n",
       "    b_0: ┤ X ├┤0     ├┤5                  ├┤0      ├─░──╫──╫──╫──╫──╫─┤M├──────»\n",
       "         └───┘│      ││                   ││       │ ░  ║  ║  ║  ║  ║ └╥┘┌─┐   »\n",
       "    b_1: ─────┤1     ├┤6                  ├┤1      ├─░──╫──╫──╫──╫──╫──╫─┤M├───»\n",
       "              │  qft ││                   ││  iqft │ ░  ║  ║  ║  ║  ║  ║ └╥┘┌─┐»\n",
       "    b_2: ─────┤2     ├┤7                  ├┤2      ├─░──╫──╫──╫──╫──╫──╫──╫─┤M├»\n",
       "              │      ││                   ││       │ ░  ║  ║  ║  ║  ║  ║  ║ └╥┘»\n",
       "    b_3: ─────┤3     ├┤8                  ├┤3      ├─░──╫──╫──╫──╫──╫──╫──╫──╫─»\n",
       "              └──────┘│                   │└───────┘ ░  ║  ║  ║  ║  ║  ║  ║  ║ »\n",
       "    a_0: ─────────────┤9                  ├──────────░──╫──╫──╫──╫──╫──╫──╫──╫─»\n",
       "                      └───────────────────┘          ░  ║  ║  ║  ║  ║  ║  ║  ║ »\n",
       "meas: 10/═══════════════════════════════════════════════╩══╩══╩══╩══╩══╩══╩══╩═»\n",
       "                                                        0  1  2  3  4  5  6  7 »\n",
       "«               \n",
       "«    c_0: ──────\n",
       "«               \n",
       "«    x_0: ──────\n",
       "«               \n",
       "«    x_1: ──────\n",
       "«               \n",
       "«    x_2: ──────\n",
       "«               \n",
       "«    x_3: ──────\n",
       "«               \n",
       "«    b_0: ──────\n",
       "«               \n",
       "«    b_1: ──────\n",
       "«               \n",
       "«    b_2: ──────\n",
       "«         ┌─┐   \n",
       "«    b_3: ┤M├───\n",
       "«         └╥┘┌─┐\n",
       "«    a_0: ─╫─┤M├\n",
       "«          ║ └╥┘\n",
       "«meas: 10/═╩══╩═\n",
       "«          8  9 </pre>"
      ]
     },
     "metadata": {},
     "execution_count": 39
    }
   ],
   "metadata": {}
  },
  {
   "cell_type": "code",
   "execution_count": 40,
   "source": [
    "q_comp = transpile(qc, backend)\n",
    "job = backend.run(q_comp, shots = 10)\n",
    "result = job.result()\n",
    "out = [*result.get_counts(q_comp)]\n",
    "for i in out:\n",
    "    print(i[1:5])\n",
    "    #get only the results of registers b"
   ],
   "outputs": [
    {
     "output_type": "stream",
     "name": "stdout",
     "text": [
      "0001\n"
     ]
    }
   ],
   "metadata": {}
  },
  {
   "cell_type": "code",
   "execution_count": 41,
   "source": [
    "def CSWAP():\n",
    "    ar = QuantumRegister(1)\n",
    "    br = QuantumRegister(1)\n",
    "    cr = QuantumRegister(1)\n",
    "    qc = QuantumCircuit(cr, ar, br)\n",
    "    qc.cx(br[0], ar[0])\n",
    "    qc.toffoli(cr[0], ar[0], br[0])\n",
    "    qc.cx(br[0], ar[0])\n",
    "    return qc\n",
    "def CSWAPREG(bits):\n",
    "    ar = QuantumRegister(bits)\n",
    "    br = QuantumRegister(bits)\n",
    "    cr = QuantumRegister(1)\n",
    "    qc = QuantumCircuit(cr, ar, br)\n",
    "    for i in range(bits):\n",
    "        qc.append(CSWAP(), [cr[0], ar[i], br[i]])\n",
    "    q = qc.to_instruction()\n",
    "    q.name = \"c_SWAPREG\"\n",
    "    return q"
   ],
   "outputs": [],
   "metadata": {}
  },
  {
   "cell_type": "code",
   "execution_count": 42,
   "source": [
    "def test_CSWAPREG(b, a, bits):\n",
    "    ar = QuantumRegister(bits, 'a')\n",
    "    br = QuantumRegister(bits, 'b')\n",
    "    cr = QuantumRegister(1, 'c')\n",
    "    qc = QuantumCircuit(cr, ar, br)\n",
    "    qc.x(cr[0])\n",
    "    bina = bin(a)[2:]\n",
    "    binb = bin(b)[2:]\n",
    "    while len(bina) < bits:\n",
    "        bina = '0' + bina\n",
    "    while len(binb) < bits:\n",
    "        binb = '0' + binb\n",
    "    for bit in range(len(bina)):\n",
    "        if bina[bit] == '1':\n",
    "            qc.x(ar[bits - bit - 1])\n",
    "    for bit in range(len(binb)):\n",
    "        if binb[bit] == '1':\n",
    "            qc.x(br[bits - bit - 1])\n",
    "    qc.append(CSWAPREG(bits), range(2*bits + 1))\n",
    "    return qc\n",
    "a = test_CSWAPREG(2, 3, 4)\n",
    "a.measure_all()\n",
    "a.draw()"
   ],
   "outputs": [
    {
     "output_type": "execute_result",
     "data": {
      "text/plain": [
       "        ┌───┐┌────────────┐ ░ ┌─┐                        \n",
       "   c_0: ┤ X ├┤0           ├─░─┤M├────────────────────────\n",
       "        ├───┤│            │ ░ └╥┘┌─┐                     \n",
       "   a_0: ┤ X ├┤1           ├─░──╫─┤M├─────────────────────\n",
       "        ├───┤│            │ ░  ║ └╥┘┌─┐                  \n",
       "   a_1: ┤ X ├┤2           ├─░──╫──╫─┤M├──────────────────\n",
       "        └───┘│            │ ░  ║  ║ └╥┘┌─┐               \n",
       "   a_2: ─────┤3           ├─░──╫──╫──╫─┤M├───────────────\n",
       "             │            │ ░  ║  ║  ║ └╥┘┌─┐            \n",
       "   a_3: ─────┤4 c_SWAPREG ├─░──╫──╫──╫──╫─┤M├────────────\n",
       "             │            │ ░  ║  ║  ║  ║ └╥┘┌─┐         \n",
       "   b_0: ─────┤5           ├─░──╫──╫──╫──╫──╫─┤M├─────────\n",
       "        ┌───┐│            │ ░  ║  ║  ║  ║  ║ └╥┘┌─┐      \n",
       "   b_1: ┤ X ├┤6           ├─░──╫──╫──╫──╫──╫──╫─┤M├──────\n",
       "        └───┘│            │ ░  ║  ║  ║  ║  ║  ║ └╥┘┌─┐   \n",
       "   b_2: ─────┤7           ├─░──╫──╫──╫──╫──╫──╫──╫─┤M├───\n",
       "             │            │ ░  ║  ║  ║  ║  ║  ║  ║ └╥┘┌─┐\n",
       "   b_3: ─────┤8           ├─░──╫──╫──╫──╫──╫──╫──╫──╫─┤M├\n",
       "             └────────────┘ ░  ║  ║  ║  ║  ║  ║  ║  ║ └╥┘\n",
       "meas: 9/═══════════════════════╩══╩══╩══╩══╩══╩══╩══╩══╩═\n",
       "                               0  1  2  3  4  5  6  7  8 "
      ],
      "text/html": [
       "<pre style=\"word-wrap: normal;white-space: pre;background: #fff0;line-height: 1.1;font-family: &quot;Courier New&quot;,Courier,monospace\">        ┌───┐┌────────────┐ ░ ┌─┐                        \n",
       "   c_0: ┤ X ├┤0           ├─░─┤M├────────────────────────\n",
       "        ├───┤│            │ ░ └╥┘┌─┐                     \n",
       "   a_0: ┤ X ├┤1           ├─░──╫─┤M├─────────────────────\n",
       "        ├───┤│            │ ░  ║ └╥┘┌─┐                  \n",
       "   a_1: ┤ X ├┤2           ├─░──╫──╫─┤M├──────────────────\n",
       "        └───┘│            │ ░  ║  ║ └╥┘┌─┐               \n",
       "   a_2: ─────┤3           ├─░──╫──╫──╫─┤M├───────────────\n",
       "             │            │ ░  ║  ║  ║ └╥┘┌─┐            \n",
       "   a_3: ─────┤4 c_SWAPREG ├─░──╫──╫──╫──╫─┤M├────────────\n",
       "             │            │ ░  ║  ║  ║  ║ └╥┘┌─┐         \n",
       "   b_0: ─────┤5           ├─░──╫──╫──╫──╫──╫─┤M├─────────\n",
       "        ┌───┐│            │ ░  ║  ║  ║  ║  ║ └╥┘┌─┐      \n",
       "   b_1: ┤ X ├┤6           ├─░──╫──╫──╫──╫──╫──╫─┤M├──────\n",
       "        └───┘│            │ ░  ║  ║  ║  ║  ║  ║ └╥┘┌─┐   \n",
       "   b_2: ─────┤7           ├─░──╫──╫──╫──╫──╫──╫──╫─┤M├───\n",
       "             │            │ ░  ║  ║  ║  ║  ║  ║  ║ └╥┘┌─┐\n",
       "   b_3: ─────┤8           ├─░──╫──╫──╫──╫──╫──╫──╫──╫─┤M├\n",
       "             └────────────┘ ░  ║  ║  ║  ║  ║  ║  ║  ║ └╥┘\n",
       "meas: 9/═══════════════════════╩══╩══╩══╩══╩══╩══╩══╩══╩═\n",
       "                               0  1  2  3  4  5  6  7  8 </pre>"
      ]
     },
     "metadata": {},
     "execution_count": 42
    }
   ],
   "metadata": {}
  },
  {
   "cell_type": "code",
   "execution_count": 13,
   "source": [
    "q_comp = transpile(a, backend)\n",
    "job = backend.run(q_comp, shots = 10)\n",
    "result = job.result()\n",
    "result.get_counts(q_comp)"
   ],
   "outputs": [
    {
     "output_type": "execute_result",
     "data": {
      "text/plain": [
       "{'001100101': 10}"
      ]
     },
     "metadata": {},
     "execution_count": 13
    }
   ],
   "metadata": {}
  },
  {
   "cell_type": "code",
   "execution_count": null,
   "source": [],
   "outputs": [],
   "metadata": {}
  },
  {
   "cell_type": "code",
   "execution_count": null,
   "source": [],
   "outputs": [],
   "metadata": {}
  }
 ]
}