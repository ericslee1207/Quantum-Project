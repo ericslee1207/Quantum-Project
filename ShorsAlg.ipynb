{
 "metadata": {
  "language_info": {
   "codemirror_mode": {
    "name": "ipython",
    "version": 3
   },
   "file_extension": ".py",
   "mimetype": "text/x-python",
   "name": "python",
   "nbconvert_exporter": "python",
   "pygments_lexer": "ipython3",
   "version": "3.8.8"
  },
  "orig_nbformat": 4,
  "kernelspec": {
   "name": "python3",
   "display_name": "Python 3.8.8 64-bit ('base': conda)"
  },
  "interpreter": {
   "hash": "dca0ade3e726a953b501b15e8e990130d2b7799f14cfd9f4271676035ebe5511"
  }
 },
 "nbformat": 4,
 "nbformat_minor": 2,
 "cells": [
  {
   "cell_type": "code",
   "execution_count": 1,
   "source": [
    "import matplotlib.pyplot as plt\n",
    "import numpy as np\n",
    "from qiskit import QuantumCircuit, Aer, transpile, assemble, QuantumRegister, ClassicalRegister, circuit, extensions\n",
    "from qiskit.providers.aer import QasmSimulator\n",
    "from qiskit.visualization import plot_histogram\n",
    "from math import gcd\n",
    "from numpy.random import randint\n",
    "import pandas as pd\n",
    "from fractions import Fraction"
   ],
   "outputs": [],
   "metadata": {}
  },
  {
   "cell_type": "code",
   "execution_count": 2,
   "source": [
    "def ADD_circuit(bits, add):\n",
    "    \"\"\" Creates a Quantum Circuit that increments a register of qubits in the Fourier Space by the parameter add \"\"\"\n",
    "    c_add = QuantumCircuit(bits)\n",
    "    bin_add = bin(add)[2:]\n",
    "    while len(bin_add) < bits:\n",
    "        bin_add = '0' + bin_add\n",
    "    while len(bin_add) > bits:\n",
    "        bin_add = bin_add[1:]\n",
    "    if bin_add == bits * '0':\n",
    "        c_add.x(0)\n",
    "        c_add.x(0)\n",
    "        return c_add\n",
    "    for cbit in range(len(bin_add)):\n",
    "        if bin_add[cbit] == '1':\n",
    "            for qbit in range(bits):\n",
    "                c_add.p( (np.pi/(2**(cbit - qbit))), bits - qbit - 1)\n",
    "    return c_add \n",
    "def ADD(bits, add):   \n",
    "    c_add = ADD_circuit(bits, add).to_instruction()\n",
    "    c_add.name = \"add {}\".format(add)\n",
    "    return c_add\n",
    "def CADD(bits, add):\n",
    "    c_add = ADD_circuit(bits, add)\n",
    "    c_add.name = \"add {}\".format(add)\n",
    "    return c_add.control(num_ctrl_qubits=1).to_instruction()"
   ],
   "outputs": [],
   "metadata": {}
  },
  {
   "cell_type": "code",
   "execution_count": 3,
   "source": [
    "def test_ADD(n1, n2, bits):\n",
    "    \"\"\" Use QFT, classical_add, and Inverse QFT to add two numbers \"\"\"\n",
    "    bn1 = bin(n1)[2:]\n",
    "    while len(bn1) < bits:\n",
    "        bn1 = '0' + bn1\n",
    "    qr = QuantumRegister(bits, \"q\")\n",
    "    qc = QuantumCircuit(qr)\n",
    "    for bit in range(len(bn1)):\n",
    "        if bn1[bit] == '1':\n",
    "            qc.x(qr[bits - bit - 1])\n",
    "    where = []\n",
    "    for i in range(len(qr)):\n",
    "        where.append(qr[i])\n",
    "    qc.append(circuit.library.QFT(num_qubits = bits, do_swaps = False).to_instruction(), where)\n",
    "    qc.append(ADD(bits, n2), where)\n",
    "    qc.append(circuit.library.QFT(num_qubits = bits, do_swaps = False).inverse().to_instruction(), where)\n",
    "    qc.measure_all()\n",
    "    return qc"
   ],
   "outputs": [],
   "metadata": {}
  },
  {
   "cell_type": "code",
   "execution_count": 4,
   "source": [
    "q = test_ADD(1, 2, 4)\n",
    "q.draw()"
   ],
   "outputs": [
    {
     "output_type": "execute_result",
     "data": {
      "text/plain": [
       "        ┌───┐┌──────┐┌────────┐┌───────┐ ░ ┌─┐         \n",
       "   q_0: ┤ X ├┤0     ├┤0       ├┤0      ├─░─┤M├─────────\n",
       "        └───┘│      ││        ││       │ ░ └╥┘┌─┐      \n",
       "   q_1: ─────┤1     ├┤1       ├┤1      ├─░──╫─┤M├──────\n",
       "             │  qft ││  add 2 ││  iqft │ ░  ║ └╥┘┌─┐   \n",
       "   q_2: ─────┤2     ├┤2       ├┤2      ├─░──╫──╫─┤M├───\n",
       "             │      ││        ││       │ ░  ║  ║ └╥┘┌─┐\n",
       "   q_3: ─────┤3     ├┤3       ├┤3      ├─░──╫──╫──╫─┤M├\n",
       "             └──────┘└────────┘└───────┘ ░  ║  ║  ║ └╥┘\n",
       "meas: 4/════════════════════════════════════╩══╩══╩══╩═\n",
       "                                            0  1  2  3 "
      ],
      "text/html": [
       "<pre style=\"word-wrap: normal;white-space: pre;background: #fff0;line-height: 1.1;font-family: &quot;Courier New&quot;,Courier,monospace\">        ┌───┐┌──────┐┌────────┐┌───────┐ ░ ┌─┐         \n",
       "   q_0: ┤ X ├┤0     ├┤0       ├┤0      ├─░─┤M├─────────\n",
       "        └───┘│      ││        ││       │ ░ └╥┘┌─┐      \n",
       "   q_1: ─────┤1     ├┤1       ├┤1      ├─░──╫─┤M├──────\n",
       "             │  qft ││  add 2 ││  iqft │ ░  ║ └╥┘┌─┐   \n",
       "   q_2: ─────┤2     ├┤2       ├┤2      ├─░──╫──╫─┤M├───\n",
       "             │      ││        ││       │ ░  ║  ║ └╥┘┌─┐\n",
       "   q_3: ─────┤3     ├┤3       ├┤3      ├─░──╫──╫──╫─┤M├\n",
       "             └──────┘└────────┘└───────┘ ░  ║  ║  ║ └╥┘\n",
       "meas: 4/════════════════════════════════════╩══╩══╩══╩═\n",
       "                                            0  1  2  3 </pre>"
      ]
     },
     "metadata": {},
     "execution_count": 4
    }
   ],
   "metadata": {}
  },
  {
   "cell_type": "code",
   "execution_count": 5,
   "source": [
    "backend = QasmSimulator()\n",
    "q_comp = transpile(q, backend)\n",
    "job = backend.run(q_comp, shots = 10)\n",
    "result = job.result()\n",
    "result.get_counts(q_comp)"
   ],
   "outputs": [
    {
     "output_type": "execute_result",
     "data": {
      "text/plain": [
       "{'0011': 10}"
      ]
     },
     "metadata": {},
     "execution_count": 5
    }
   ],
   "metadata": {}
  },
  {
   "cell_type": "code",
   "execution_count": 6,
   "source": [
    "def MODADD(b, m, bits):\n",
    "    \"\"\" Use the Quantum_Add Gate to add to the register number in the modular base; \n",
    "        only works if this number < 2 * m \"\"\"\n",
    "    qr = QuantumRegister(bits, 'q')\n",
    "    vr = QuantumRegister(1, 'v')\n",
    "    ar = QuantumRegister(1, 'a')\n",
    "    qc = QuantumCircuit(qr, vr, ar)\n",
    "    where = []\n",
    "    for i in range(bits):\n",
    "        where.append(qr[i])\n",
    "    where = where + [vr[0]]\n",
    "    qc.append(ADD(bits + 1, b), where)\n",
    "    qc.append(ADD(bits + 1, m).inverse(), where)\n",
    "    qc.append(circuit.library.QFT(num_qubits=bits + 1, do_swaps=False).inverse().to_instruction(), where)\n",
    "    qc.cx(vr[0],ar[0])\n",
    "    qc.append(circuit.library.QFT(num_qubits=bits + 1, do_swaps=False).to_instruction(), where)\n",
    "    where2 = [ar[0]] + where\n",
    "    qc.append(CADD(bits + 1, m), where2)\n",
    "    qc.append(ADD(bits + 1, b).inverse(), where)\n",
    "    qc.append(circuit.library.QFT(num_qubits=bits + 1, do_swaps=False).inverse().to_instruction(), where)\n",
    "    qc.x(vr[0])\n",
    "    qc.cx(vr[0],ar[0])\n",
    "    qc.x(vr[0])\n",
    "    qc.append(circuit.library.QFT(num_qubits=bits + 1, do_swaps=False).to_instruction(), where)\n",
    "    qc.append(ADD(bits + 1, b), where)\n",
    "    return qc"
   ],
   "outputs": [],
   "metadata": {}
  },
  {
   "cell_type": "code",
   "execution_count": 7,
   "source": [
    "q = MODADD(4, 3, 5)\n",
    "q.draw()"
   ],
   "outputs": [
    {
     "output_type": "execute_result",
     "data": {
      "text/plain": [
       "     ┌────────┐┌───────────┐┌───────┐     ┌──────┐┌──────────┐┌───────────┐»\n",
       "q_0: ┤0       ├┤0          ├┤0      ├─────┤0     ├┤1         ├┤0          ├»\n",
       "     │        ││           ││       │     │      ││          ││           │»\n",
       "q_1: ┤1       ├┤1          ├┤1      ├─────┤1     ├┤2         ├┤1          ├»\n",
       "     │        ││           ││       │     │      ││          ││           │»\n",
       "q_2: ┤2       ├┤2          ├┤2      ├─────┤2     ├┤3         ├┤2          ├»\n",
       "     │  add 4 ││  add 3_dg ││  iqft │     │  qft ││          ││  add 4_dg │»\n",
       "q_3: ┤3       ├┤3          ├┤3      ├─────┤3     ├┤4 c_add 3 ├┤3          ├»\n",
       "     │        ││           ││       │     │      ││          ││           │»\n",
       "q_4: ┤4       ├┤4          ├┤4      ├─────┤4     ├┤5         ├┤4          ├»\n",
       "     │        ││           ││       │     │      ││          ││           │»\n",
       "v_0: ┤5       ├┤5          ├┤5      ├──■──┤5     ├┤6         ├┤5          ├»\n",
       "     └────────┘└───────────┘└───────┘┌─┴─┐└──────┘│          │└───────────┘»\n",
       "a_0: ────────────────────────────────┤ X ├────────┤0         ├─────────────»\n",
       "                                     └───┘        └──────────┘             »\n",
       "«     ┌───────┐               ┌──────┐┌────────┐\n",
       "«q_0: ┤0      ├───────────────┤0     ├┤0       ├\n",
       "«     │       │               │      ││        │\n",
       "«q_1: ┤1      ├───────────────┤1     ├┤1       ├\n",
       "«     │       │               │      ││        │\n",
       "«q_2: ┤2      ├───────────────┤2     ├┤2       ├\n",
       "«     │  iqft │               │  qft ││  add 4 │\n",
       "«q_3: ┤3      ├───────────────┤3     ├┤3       ├\n",
       "«     │       │               │      ││        │\n",
       "«q_4: ┤4      ├───────────────┤4     ├┤4       ├\n",
       "«     │       │┌───┐     ┌───┐│      ││        │\n",
       "«v_0: ┤5      ├┤ X ├──■──┤ X ├┤5     ├┤5       ├\n",
       "«     └───────┘└───┘┌─┴─┐└───┘└──────┘└────────┘\n",
       "«a_0: ──────────────┤ X ├───────────────────────\n",
       "«                   └───┘                       "
      ],
      "text/html": [
       "<pre style=\"word-wrap: normal;white-space: pre;background: #fff0;line-height: 1.1;font-family: &quot;Courier New&quot;,Courier,monospace\">     ┌────────┐┌───────────┐┌───────┐     ┌──────┐┌──────────┐┌───────────┐»\n",
       "q_0: ┤0       ├┤0          ├┤0      ├─────┤0     ├┤1         ├┤0          ├»\n",
       "     │        ││           ││       │     │      ││          ││           │»\n",
       "q_1: ┤1       ├┤1          ├┤1      ├─────┤1     ├┤2         ├┤1          ├»\n",
       "     │        ││           ││       │     │      ││          ││           │»\n",
       "q_2: ┤2       ├┤2          ├┤2      ├─────┤2     ├┤3         ├┤2          ├»\n",
       "     │  add 4 ││  add 3_dg ││  iqft │     │  qft ││          ││  add 4_dg │»\n",
       "q_3: ┤3       ├┤3          ├┤3      ├─────┤3     ├┤4 c_add 3 ├┤3          ├»\n",
       "     │        ││           ││       │     │      ││          ││           │»\n",
       "q_4: ┤4       ├┤4          ├┤4      ├─────┤4     ├┤5         ├┤4          ├»\n",
       "     │        ││           ││       │     │      ││          ││           │»\n",
       "v_0: ┤5       ├┤5          ├┤5      ├──■──┤5     ├┤6         ├┤5          ├»\n",
       "     └────────┘└───────────┘└───────┘┌─┴─┐└──────┘│          │└───────────┘»\n",
       "a_0: ────────────────────────────────┤ X ├────────┤0         ├─────────────»\n",
       "                                     └───┘        └──────────┘             »\n",
       "«     ┌───────┐               ┌──────┐┌────────┐\n",
       "«q_0: ┤0      ├───────────────┤0     ├┤0       ├\n",
       "«     │       │               │      ││        │\n",
       "«q_1: ┤1      ├───────────────┤1     ├┤1       ├\n",
       "«     │       │               │      ││        │\n",
       "«q_2: ┤2      ├───────────────┤2     ├┤2       ├\n",
       "«     │  iqft │               │  qft ││  add 4 │\n",
       "«q_3: ┤3      ├───────────────┤3     ├┤3       ├\n",
       "«     │       │               │      ││        │\n",
       "«q_4: ┤4      ├───────────────┤4     ├┤4       ├\n",
       "«     │       │┌───┐     ┌───┐│      ││        │\n",
       "«v_0: ┤5      ├┤ X ├──■──┤ X ├┤5     ├┤5       ├\n",
       "«     └───────┘└───┘┌─┴─┐└───┘└──────┘└────────┘\n",
       "«a_0: ──────────────┤ X ├───────────────────────\n",
       "«                   └───┘                       </pre>"
      ]
     },
     "metadata": {},
     "execution_count": 7
    }
   ],
   "metadata": {}
  },
  {
   "cell_type": "code",
   "execution_count": 8,
   "source": [
    "def test_MODADD(a, b, m, bits):\n",
    "    \"\"\" Function to test the efficacy of the MODADD\"\"\"\n",
    "    bina = bin(a)[2:]\n",
    "    while(len(bina) < bits):\n",
    "        bina = '0' + bina\n",
    "    qr = QuantumRegister(bits, 'q')\n",
    "    vr = QuantumRegister(1, 'v')\n",
    "    ar = QuantumRegister(1, 'a')\n",
    "    qc = QuantumCircuit(qr, vr, ar)\n",
    "    for bit in range(len(bina)):\n",
    "        if bina[bit] == '1':\n",
    "            qc.x(qr[bits - bit - 1])\n",
    "    where = []\n",
    "    for i in range(len(qr)):\n",
    "        where.append(qr[i])\n",
    "    where = where + [vr[0]]\n",
    "    qc.append(circuit.library.QFT(num_qubits=bits + 1, do_swaps=False).to_instruction(), where)\n",
    "    where2 = where + [ar[0]]\n",
    "    qc.append(MODADD(b, m, bits).to_instruction(), where2)\n",
    "    qc.append(circuit.library.QFT(num_qubits=bits + 1, do_swaps=False).inverse().to_instruction(), where)\n",
    "    qc.measure_all()\n",
    "    return qc\n",
    "q = test_MODADD(4,3,5,6)\n",
    "q.draw()\n",
    "    "
   ],
   "outputs": [
    {
     "output_type": "execute_result",
     "data": {
      "text/plain": [
       "             ┌──────┐┌──────────────┐┌───────┐ ░ ┌─┐                     \n",
       "   q_0: ─────┤0     ├┤0             ├┤0      ├─░─┤M├─────────────────────\n",
       "             │      ││              ││       │ ░ └╥┘┌─┐                  \n",
       "   q_1: ─────┤1     ├┤1             ├┤1      ├─░──╫─┤M├──────────────────\n",
       "        ┌───┐│      ││              ││       │ ░  ║ └╥┘┌─┐               \n",
       "   q_2: ┤ X ├┤2     ├┤2             ├┤2      ├─░──╫──╫─┤M├───────────────\n",
       "        └───┘│      ││              ││       │ ░  ║  ║ └╥┘┌─┐            \n",
       "   q_3: ─────┤3 qft ├┤3             ├┤3 iqft ├─░──╫──╫──╫─┤M├────────────\n",
       "             │      ││  circuit-144 ││       │ ░  ║  ║  ║ └╥┘┌─┐         \n",
       "   q_4: ─────┤4     ├┤4             ├┤4      ├─░──╫──╫──╫──╫─┤M├─────────\n",
       "             │      ││              ││       │ ░  ║  ║  ║  ║ └╥┘┌─┐      \n",
       "   q_5: ─────┤5     ├┤5             ├┤5      ├─░──╫──╫──╫──╫──╫─┤M├──────\n",
       "             │      ││              ││       │ ░  ║  ║  ║  ║  ║ └╥┘┌─┐   \n",
       "   v_0: ─────┤6     ├┤6             ├┤6      ├─░──╫──╫──╫──╫──╫──╫─┤M├───\n",
       "             └──────┘│              │└───────┘ ░  ║  ║  ║  ║  ║  ║ └╥┘┌─┐\n",
       "   a_0: ─────────────┤7             ├──────────░──╫──╫──╫──╫──╫──╫──╫─┤M├\n",
       "                     └──────────────┘          ░  ║  ║  ║  ║  ║  ║  ║ └╥┘\n",
       "meas: 8/══════════════════════════════════════════╩══╩══╩══╩══╩══╩══╩══╩═\n",
       "                                                  0  1  2  3  4  5  6  7 "
      ],
      "text/html": [
       "<pre style=\"word-wrap: normal;white-space: pre;background: #fff0;line-height: 1.1;font-family: &quot;Courier New&quot;,Courier,monospace\">             ┌──────┐┌──────────────┐┌───────┐ ░ ┌─┐                     \n",
       "   q_0: ─────┤0     ├┤0             ├┤0      ├─░─┤M├─────────────────────\n",
       "             │      ││              ││       │ ░ └╥┘┌─┐                  \n",
       "   q_1: ─────┤1     ├┤1             ├┤1      ├─░──╫─┤M├──────────────────\n",
       "        ┌───┐│      ││              ││       │ ░  ║ └╥┘┌─┐               \n",
       "   q_2: ┤ X ├┤2     ├┤2             ├┤2      ├─░──╫──╫─┤M├───────────────\n",
       "        └───┘│      ││              ││       │ ░  ║  ║ └╥┘┌─┐            \n",
       "   q_3: ─────┤3 qft ├┤3             ├┤3 iqft ├─░──╫──╫──╫─┤M├────────────\n",
       "             │      ││  circuit-144 ││       │ ░  ║  ║  ║ └╥┘┌─┐         \n",
       "   q_4: ─────┤4     ├┤4             ├┤4      ├─░──╫──╫──╫──╫─┤M├─────────\n",
       "             │      ││              ││       │ ░  ║  ║  ║  ║ └╥┘┌─┐      \n",
       "   q_5: ─────┤5     ├┤5             ├┤5      ├─░──╫──╫──╫──╫──╫─┤M├──────\n",
       "             │      ││              ││       │ ░  ║  ║  ║  ║  ║ └╥┘┌─┐   \n",
       "   v_0: ─────┤6     ├┤6             ├┤6      ├─░──╫──╫──╫──╫──╫──╫─┤M├───\n",
       "             └──────┘│              │└───────┘ ░  ║  ║  ║  ║  ║  ║ └╥┘┌─┐\n",
       "   a_0: ─────────────┤7             ├──────────░──╫──╫──╫──╫──╫──╫──╫─┤M├\n",
       "                     └──────────────┘          ░  ║  ║  ║  ║  ║  ║  ║ └╥┘\n",
       "meas: 8/══════════════════════════════════════════╩══╩══╩══╩══╩══╩══╩══╩═\n",
       "                                                  0  1  2  3  4  5  6  7 </pre>"
      ]
     },
     "metadata": {},
     "execution_count": 8
    }
   ],
   "metadata": {}
  },
  {
   "cell_type": "code",
   "execution_count": 9,
   "source": [
    "q_comp = transpile(q, backend)\n",
    "job = backend.run(q_comp, shots = 10)\n",
    "result = job.result()\n",
    "result.get_counts(q_comp)"
   ],
   "outputs": [
    {
     "output_type": "execute_result",
     "data": {
      "text/plain": [
       "{'00000010': 10}"
      ]
     },
     "metadata": {},
     "execution_count": 9
    }
   ],
   "metadata": {}
  },
  {
   "cell_type": "code",
   "execution_count": 10,
   "source": [
    "def DCMODADD(b, m, bits):\n",
    "    \"\"\" Doubly Controlled Modular Addition Gate (in the Fourier Space)\"\"\"\n",
    "    qc = MODADD(b, m, bits)\n",
    "    qc = qc.decompose()\n",
    "    qc.name = \"add {} mod {}\".format(b, m)\n",
    "    return qc.control(num_ctrl_qubits = 2)"
   ],
   "outputs": [],
   "metadata": {}
  },
  {
   "cell_type": "code",
   "execution_count": 11,
   "source": [
    "qc = DCMODADD(2, 4, 7)\n",
    "qc.draw()"
   ],
   "outputs": [
    {
     "output_type": "execute_result",
     "data": {
      "text/plain": [
       "                       \n",
       "q69_0: ───────■────────\n",
       "              │        \n",
       "q69_1: ───────■────────\n",
       "       ┌──────┴───────┐\n",
       "  q_0: ┤0             ├\n",
       "       │              │\n",
       "  q_1: ┤1             ├\n",
       "       │              │\n",
       "  q_2: ┤2             ├\n",
       "       │              │\n",
       "  q_3: ┤3             ├\n",
       "       │              │\n",
       "  q_4: ┤4 add 2 mod 4 ├\n",
       "       │              │\n",
       "  q_5: ┤5             ├\n",
       "       │              │\n",
       "  q_6: ┤6             ├\n",
       "       │              │\n",
       "  v_0: ┤7             ├\n",
       "       │              │\n",
       "  a_0: ┤8             ├\n",
       "       └──────────────┘"
      ],
      "text/html": [
       "<pre style=\"word-wrap: normal;white-space: pre;background: #fff0;line-height: 1.1;font-family: &quot;Courier New&quot;,Courier,monospace\">                       \n",
       "q69_0: ───────■────────\n",
       "              │        \n",
       "q69_1: ───────■────────\n",
       "       ┌──────┴───────┐\n",
       "  q_0: ┤0             ├\n",
       "       │              │\n",
       "  q_1: ┤1             ├\n",
       "       │              │\n",
       "  q_2: ┤2             ├\n",
       "       │              │\n",
       "  q_3: ┤3             ├\n",
       "       │              │\n",
       "  q_4: ┤4 add 2 mod 4 ├\n",
       "       │              │\n",
       "  q_5: ┤5             ├\n",
       "       │              │\n",
       "  q_6: ┤6             ├\n",
       "       │              │\n",
       "  v_0: ┤7             ├\n",
       "       │              │\n",
       "  a_0: ┤8             ├\n",
       "       └──────────────┘</pre>"
      ]
     },
     "metadata": {},
     "execution_count": 11
    }
   ],
   "metadata": {}
  },
  {
   "cell_type": "code",
   "execution_count": 12,
   "source": [
    "def AFFMULT(a, m, bits):\n",
    "    \"\"\" Given an x in the computational basis, return ax + the value in the b register in the Fourier Space\"\"\"\n",
    "    cr = QuantumRegister(1, 'c')\n",
    "    xr = QuantumRegister(bits, 'x')\n",
    "    br = QuantumRegister(bits, 'b')\n",
    "    vr = QuantumRegister(1, 'v')\n",
    "    ar = QuantumRegister(1, 'a')\n",
    "    qc = QuantumCircuit(cr, xr, br, vr, ar)\n",
    "    br_list = []\n",
    "    for i in range(bits):\n",
    "        br_list.append(br[i])\n",
    "    br_list.append(vr[0])\n",
    "    qc.append(circuit.library.QFT(num_qubits=bits + 1, do_swaps=False).to_instruction(), br_list)\n",
    "    for i in range(bits):\n",
    "        where = br_list\n",
    "        where = [cr[0]] + [xr[i]] + br_list + [ar[0]]\n",
    "        qc.append(DCMODADD(((2 ** i) * a % m), m, bits), where)\n",
    "    qc.append(circuit.library.QFT(num_qubits=bits + 1, do_swaps=False).inverse().to_instruction(), br_list)\n",
    "    q = qc.to_instruction()\n",
    "    q.name = \"multiply {} mod {}\".format(a, m)\n",
    "    return q"
   ],
   "outputs": [],
   "metadata": {}
  },
  {
   "cell_type": "code",
   "execution_count": 13,
   "source": [
    "def test_AFFMULT(a, x, b, m, bits):\n",
    "    \"\"\" Function to test the efficacy of the CMULT Gate\"\"\"\n",
    "    cr = QuantumRegister(1, 'c')\n",
    "    xr = QuantumRegister(bits, 'x')\n",
    "    br = QuantumRegister(bits, 'b')\n",
    "    vr = QuantumRegister(1, 'v')\n",
    "    ar = QuantumRegister(1, 'a')\n",
    "    qc = QuantumCircuit(cr, xr, br, vr, ar)\n",
    "    binx = bin(x)[2:]\n",
    "    while(len(binx) < bits):\n",
    "        binx = '0' + binx\n",
    "    for bit in range(len(binx)):\n",
    "        if binx[bit] == '1':\n",
    "            qc.x(xr[bits - bit - 1])\n",
    "    binb = bin(b)[2:]\n",
    "    while(len(binb) < bits):\n",
    "        binb = '0' + binb\n",
    "    for bit in range(len(binb)):\n",
    "        if binb[bit] == '1':\n",
    "            qc.x(br[bits - bit - 1])\n",
    "    br_list = []\n",
    "    for i in range(bits):\n",
    "        br_list.append(br[i])\n",
    "    qc.x(cr[0])\n",
    "    qc.append(AFFMULT(a, m, bits), range(2 * bits + 3))\n",
    "    qc.measure_all()\n",
    "    return qc\n",
    "qc = test_AFFMULT(3, 4, 0, 5, 4)\n",
    "qc.decompose().draw()"
   ],
   "outputs": [
    {
     "output_type": "execute_result",
     "data": {
      "text/plain": [
       "         ┌───────────┐┌────────────────┐┌────────────────┐┌────────────────┐»\n",
       "    c_0: ┤ U3(π,0,π) ├┤0               ├┤0               ├┤0               ├»\n",
       "         └───────────┘│                ││                ││                │»\n",
       "    x_0: ─────────────┤1               ├┤                ├┤                ├»\n",
       "                      │                ││                ││                │»\n",
       "    x_1: ─────────────┤                ├┤1               ├┤                ├»\n",
       "         ┌───────────┐│                ││                ││                │»\n",
       "    x_2: ┤ U3(π,0,π) ├┤                ├┤                ├┤1               ├»\n",
       "         └───────────┘│                ││                ││                │»\n",
       "    x_3: ─────────────┤                ├┤                ├┤                ├»\n",
       "            ┌──────┐  │                ││                ││                │»\n",
       "    b_0: ───┤0     ├──┤2 c_add 3 mod 5 ├┤2 c_add 1 mod 5 ├┤2 c_add 2 mod 5 ├»\n",
       "            │      │  │                ││                ││                │»\n",
       "    b_1: ───┤1     ├──┤3               ├┤3               ├┤3               ├»\n",
       "            │      │  │                ││                ││                │»\n",
       "    b_2: ───┤2 qft ├──┤4               ├┤4               ├┤4               ├»\n",
       "            │      │  │                ││                ││                │»\n",
       "    b_3: ───┤3     ├──┤5               ├┤5               ├┤5               ├»\n",
       "            │      │  │                ││                ││                │»\n",
       "    v_0: ───┤4     ├──┤6               ├┤6               ├┤6               ├»\n",
       "            └──────┘  │                ││                ││                │»\n",
       "    a_0: ─────────────┤7               ├┤7               ├┤7               ├»\n",
       "                      └────────────────┘└────────────────┘└────────────────┘»\n",
       "meas: 11/═══════════════════════════════════════════════════════════════════»\n",
       "                                                                            »\n",
       "«         ┌────────────────┐          ░ ┌─┐                              \n",
       "«    c_0: ┤0               ├──────────░─┤M├──────────────────────────────\n",
       "«         │                │          ░ └╥┘┌─┐                           \n",
       "«    x_0: ┤                ├──────────░──╫─┤M├───────────────────────────\n",
       "«         │                │          ░  ║ └╥┘┌─┐                        \n",
       "«    x_1: ┤                ├──────────░──╫──╫─┤M├────────────────────────\n",
       "«         │                │          ░  ║  ║ └╥┘┌─┐                     \n",
       "«    x_2: ┤                ├──────────░──╫──╫──╫─┤M├─────────────────────\n",
       "«         │                │          ░  ║  ║  ║ └╥┘┌─┐                  \n",
       "«    x_3: ┤1               ├──────────░──╫──╫──╫──╫─┤M├──────────────────\n",
       "«         │                │┌───────┐ ░  ║  ║  ║  ║ └╥┘┌─┐               \n",
       "«    b_0: ┤2 c_add 4 mod 5 ├┤0      ├─░──╫──╫──╫──╫──╫─┤M├───────────────\n",
       "«         │                ││       │ ░  ║  ║  ║  ║  ║ └╥┘┌─┐            \n",
       "«    b_1: ┤3               ├┤1      ├─░──╫──╫──╫──╫──╫──╫─┤M├────────────\n",
       "«         │                ││       │ ░  ║  ║  ║  ║  ║  ║ └╥┘┌─┐         \n",
       "«    b_2: ┤4               ├┤2 iqft ├─░──╫──╫──╫──╫──╫──╫──╫─┤M├─────────\n",
       "«         │                ││       │ ░  ║  ║  ║  ║  ║  ║  ║ └╥┘┌─┐      \n",
       "«    b_3: ┤5               ├┤3      ├─░──╫──╫──╫──╫──╫──╫──╫──╫─┤M├──────\n",
       "«         │                ││       │ ░  ║  ║  ║  ║  ║  ║  ║  ║ └╥┘┌─┐   \n",
       "«    v_0: ┤6               ├┤4      ├─░──╫──╫──╫──╫──╫──╫──╫──╫──╫─┤M├───\n",
       "«         │                │└───────┘ ░  ║  ║  ║  ║  ║  ║  ║  ║  ║ └╥┘┌─┐\n",
       "«    a_0: ┤7               ├──────────░──╫──╫──╫──╫──╫──╫──╫──╫──╫──╫─┤M├\n",
       "«         └────────────────┘          ░  ║  ║  ║  ║  ║  ║  ║  ║  ║  ║ └╥┘\n",
       "«meas: 11/═══════════════════════════════╩══╩══╩══╩══╩══╩══╩══╩══╩══╩══╩═\n",
       "«                                        0  1  2  3  4  5  6  7  8  9  10"
      ],
      "text/html": [
       "<pre style=\"word-wrap: normal;white-space: pre;background: #fff0;line-height: 1.1;font-family: &quot;Courier New&quot;,Courier,monospace\">         ┌───────────┐┌────────────────┐┌────────────────┐┌────────────────┐»\n",
       "    c_0: ┤ U3(π,0,π) ├┤0               ├┤0               ├┤0               ├»\n",
       "         └───────────┘│                ││                ││                │»\n",
       "    x_0: ─────────────┤1               ├┤                ├┤                ├»\n",
       "                      │                ││                ││                │»\n",
       "    x_1: ─────────────┤                ├┤1               ├┤                ├»\n",
       "         ┌───────────┐│                ││                ││                │»\n",
       "    x_2: ┤ U3(π,0,π) ├┤                ├┤                ├┤1               ├»\n",
       "         └───────────┘│                ││                ││                │»\n",
       "    x_3: ─────────────┤                ├┤                ├┤                ├»\n",
       "            ┌──────┐  │                ││                ││                │»\n",
       "    b_0: ───┤0     ├──┤2 c_add 3 mod 5 ├┤2 c_add 1 mod 5 ├┤2 c_add 2 mod 5 ├»\n",
       "            │      │  │                ││                ││                │»\n",
       "    b_1: ───┤1     ├──┤3               ├┤3               ├┤3               ├»\n",
       "            │      │  │                ││                ││                │»\n",
       "    b_2: ───┤2 qft ├──┤4               ├┤4               ├┤4               ├»\n",
       "            │      │  │                ││                ││                │»\n",
       "    b_3: ───┤3     ├──┤5               ├┤5               ├┤5               ├»\n",
       "            │      │  │                ││                ││                │»\n",
       "    v_0: ───┤4     ├──┤6               ├┤6               ├┤6               ├»\n",
       "            └──────┘  │                ││                ││                │»\n",
       "    a_0: ─────────────┤7               ├┤7               ├┤7               ├»\n",
       "                      └────────────────┘└────────────────┘└────────────────┘»\n",
       "meas: 11/═══════════════════════════════════════════════════════════════════»\n",
       "                                                                            »\n",
       "«         ┌────────────────┐          ░ ┌─┐                              \n",
       "«    c_0: ┤0               ├──────────░─┤M├──────────────────────────────\n",
       "«         │                │          ░ └╥┘┌─┐                           \n",
       "«    x_0: ┤                ├──────────░──╫─┤M├───────────────────────────\n",
       "«         │                │          ░  ║ └╥┘┌─┐                        \n",
       "«    x_1: ┤                ├──────────░──╫──╫─┤M├────────────────────────\n",
       "«         │                │          ░  ║  ║ └╥┘┌─┐                     \n",
       "«    x_2: ┤                ├──────────░──╫──╫──╫─┤M├─────────────────────\n",
       "«         │                │          ░  ║  ║  ║ └╥┘┌─┐                  \n",
       "«    x_3: ┤1               ├──────────░──╫──╫──╫──╫─┤M├──────────────────\n",
       "«         │                │┌───────┐ ░  ║  ║  ║  ║ └╥┘┌─┐               \n",
       "«    b_0: ┤2 c_add 4 mod 5 ├┤0      ├─░──╫──╫──╫──╫──╫─┤M├───────────────\n",
       "«         │                ││       │ ░  ║  ║  ║  ║  ║ └╥┘┌─┐            \n",
       "«    b_1: ┤3               ├┤1      ├─░──╫──╫──╫──╫──╫──╫─┤M├────────────\n",
       "«         │                ││       │ ░  ║  ║  ║  ║  ║  ║ └╥┘┌─┐         \n",
       "«    b_2: ┤4               ├┤2 iqft ├─░──╫──╫──╫──╫──╫──╫──╫─┤M├─────────\n",
       "«         │                ││       │ ░  ║  ║  ║  ║  ║  ║  ║ └╥┘┌─┐      \n",
       "«    b_3: ┤5               ├┤3      ├─░──╫──╫──╫──╫──╫──╫──╫──╫─┤M├──────\n",
       "«         │                ││       │ ░  ║  ║  ║  ║  ║  ║  ║  ║ └╥┘┌─┐   \n",
       "«    v_0: ┤6               ├┤4      ├─░──╫──╫──╫──╫──╫──╫──╫──╫──╫─┤M├───\n",
       "«         │                │└───────┘ ░  ║  ║  ║  ║  ║  ║  ║  ║  ║ └╥┘┌─┐\n",
       "«    a_0: ┤7               ├──────────░──╫──╫──╫──╫──╫──╫──╫──╫──╫──╫─┤M├\n",
       "«         └────────────────┘          ░  ║  ║  ║  ║  ║  ║  ║  ║  ║  ║ └╥┘\n",
       "«meas: 11/═══════════════════════════════╩══╩══╩══╩══╩══╩══╩══╩══╩══╩══╩═\n",
       "«                                        0  1  2  3  4  5  6  7  8  9  10</pre>"
      ]
     },
     "metadata": {},
     "execution_count": 13
    }
   ],
   "metadata": {}
  },
  {
   "cell_type": "code",
   "execution_count": 14,
   "source": [
    "q_comp = transpile(qc, backend)\n",
    "job = backend.run(q_comp, shots = 10)\n",
    "result = job.result()\n",
    "result.get_counts(q_comp)\n"
   ],
   "outputs": [
    {
     "output_type": "execute_result",
     "data": {
      "text/plain": [
       "{'00001001001': 10}"
      ]
     },
     "metadata": {},
     "execution_count": 14
    }
   ],
   "metadata": {}
  },
  {
   "cell_type": "code",
   "execution_count": 15,
   "source": [
    "def CSWAP():\n",
    "    ar = QuantumRegister(1)\n",
    "    br = QuantumRegister(1)\n",
    "    cr = QuantumRegister(1)\n",
    "    qc = QuantumCircuit(cr, ar, br)\n",
    "    qc.cx(br[0], ar[0])\n",
    "    qc.toffoli(cr[0], ar[0], br[0])\n",
    "    qc.cx(br[0], ar[0])\n",
    "    return qc\n",
    "def CSWAPREG(bits):\n",
    "    ar = QuantumRegister(bits)\n",
    "    br = QuantumRegister(bits)\n",
    "    cr = QuantumRegister(1)\n",
    "    qc = QuantumCircuit(cr, ar, br)\n",
    "    for i in range(bits):\n",
    "        qc.append(CSWAP(), [cr[0], ar[i], br[i]])\n",
    "    q = qc.to_instruction()\n",
    "    q.name = \"c_SWAPREG\"\n",
    "    return q"
   ],
   "outputs": [],
   "metadata": {}
  },
  {
   "cell_type": "code",
   "execution_count": 16,
   "source": [
    "def test_CSWAPREG(b, a, bits):\n",
    "    ar = QuantumRegister(bits, 'a')\n",
    "    br = QuantumRegister(bits, 'b')\n",
    "    cr = QuantumRegister(1, 'c')\n",
    "    qc = QuantumCircuit(cr, ar, br)\n",
    "    qc.x(cr[0])\n",
    "    bina = bin(a)[2:]\n",
    "    binb = bin(b)[2:]\n",
    "    while len(bina) < bits:\n",
    "        bina = '0' + bina\n",
    "    while len(binb) < bits:\n",
    "        binb = '0' + binb\n",
    "    for bit in range(len(bina)):\n",
    "        if bina[bit] == '1':\n",
    "            qc.x(ar[bits - bit - 1])\n",
    "    for bit in range(len(binb)):\n",
    "        if binb[bit] == '1':\n",
    "            qc.x(br[bits - bit - 1])\n",
    "    qc.append(CSWAPREG(bits), range(2*bits + 1))\n",
    "    return qc\n",
    "a = test_CSWAPREG(2, 3, 4)\n",
    "a.measure_all()\n",
    "a.draw()"
   ],
   "outputs": [
    {
     "output_type": "execute_result",
     "data": {
      "text/plain": [
       "        ┌───┐┌────────────┐ ░ ┌─┐                        \n",
       "   c_0: ┤ X ├┤0           ├─░─┤M├────────────────────────\n",
       "        ├───┤│            │ ░ └╥┘┌─┐                     \n",
       "   a_0: ┤ X ├┤1           ├─░──╫─┤M├─────────────────────\n",
       "        ├───┤│            │ ░  ║ └╥┘┌─┐                  \n",
       "   a_1: ┤ X ├┤2           ├─░──╫──╫─┤M├──────────────────\n",
       "        └───┘│            │ ░  ║  ║ └╥┘┌─┐               \n",
       "   a_2: ─────┤3           ├─░──╫──╫──╫─┤M├───────────────\n",
       "             │            │ ░  ║  ║  ║ └╥┘┌─┐            \n",
       "   a_3: ─────┤4 c_SWAPREG ├─░──╫──╫──╫──╫─┤M├────────────\n",
       "             │            │ ░  ║  ║  ║  ║ └╥┘┌─┐         \n",
       "   b_0: ─────┤5           ├─░──╫──╫──╫──╫──╫─┤M├─────────\n",
       "        ┌───┐│            │ ░  ║  ║  ║  ║  ║ └╥┘┌─┐      \n",
       "   b_1: ┤ X ├┤6           ├─░──╫──╫──╫──╫──╫──╫─┤M├──────\n",
       "        └───┘│            │ ░  ║  ║  ║  ║  ║  ║ └╥┘┌─┐   \n",
       "   b_2: ─────┤7           ├─░──╫──╫──╫──╫──╫──╫──╫─┤M├───\n",
       "             │            │ ░  ║  ║  ║  ║  ║  ║  ║ └╥┘┌─┐\n",
       "   b_3: ─────┤8           ├─░──╫──╫──╫──╫──╫──╫──╫──╫─┤M├\n",
       "             └────────────┘ ░  ║  ║  ║  ║  ║  ║  ║  ║ └╥┘\n",
       "meas: 9/═══════════════════════╩══╩══╩══╩══╩══╩══╩══╩══╩═\n",
       "                               0  1  2  3  4  5  6  7  8 "
      ],
      "text/html": [
       "<pre style=\"word-wrap: normal;white-space: pre;background: #fff0;line-height: 1.1;font-family: &quot;Courier New&quot;,Courier,monospace\">        ┌───┐┌────────────┐ ░ ┌─┐                        \n",
       "   c_0: ┤ X ├┤0           ├─░─┤M├────────────────────────\n",
       "        ├───┤│            │ ░ └╥┘┌─┐                     \n",
       "   a_0: ┤ X ├┤1           ├─░──╫─┤M├─────────────────────\n",
       "        ├───┤│            │ ░  ║ └╥┘┌─┐                  \n",
       "   a_1: ┤ X ├┤2           ├─░──╫──╫─┤M├──────────────────\n",
       "        └───┘│            │ ░  ║  ║ └╥┘┌─┐               \n",
       "   a_2: ─────┤3           ├─░──╫──╫──╫─┤M├───────────────\n",
       "             │            │ ░  ║  ║  ║ └╥┘┌─┐            \n",
       "   a_3: ─────┤4 c_SWAPREG ├─░──╫──╫──╫──╫─┤M├────────────\n",
       "             │            │ ░  ║  ║  ║  ║ └╥┘┌─┐         \n",
       "   b_0: ─────┤5           ├─░──╫──╫──╫──╫──╫─┤M├─────────\n",
       "        ┌───┐│            │ ░  ║  ║  ║  ║  ║ └╥┘┌─┐      \n",
       "   b_1: ┤ X ├┤6           ├─░──╫──╫──╫──╫──╫──╫─┤M├──────\n",
       "        └───┘│            │ ░  ║  ║  ║  ║  ║  ║ └╥┘┌─┐   \n",
       "   b_2: ─────┤7           ├─░──╫──╫──╫──╫──╫──╫──╫─┤M├───\n",
       "             │            │ ░  ║  ║  ║  ║  ║  ║  ║ └╥┘┌─┐\n",
       "   b_3: ─────┤8           ├─░──╫──╫──╫──╫──╫──╫──╫──╫─┤M├\n",
       "             └────────────┘ ░  ║  ║  ║  ║  ║  ║  ║  ║ └╥┘\n",
       "meas: 9/═══════════════════════╩══╩══╩══╩══╩══╩══╩══╩══╩═\n",
       "                               0  1  2  3  4  5  6  7  8 </pre>"
      ]
     },
     "metadata": {},
     "execution_count": 16
    }
   ],
   "metadata": {}
  },
  {
   "cell_type": "code",
   "execution_count": 17,
   "source": [
    "q_comp = transpile(a, backend)\n",
    "job = backend.run(q_comp, shots = 10)\n",
    "result = job.result()\n",
    "result.get_counts(q_comp)"
   ],
   "outputs": [
    {
     "output_type": "execute_result",
     "data": {
      "text/plain": [
       "{'001100101': 10}"
      ]
     },
     "metadata": {},
     "execution_count": 17
    }
   ],
   "metadata": {}
  },
  {
   "cell_type": "code",
   "execution_count": 18,
   "source": [
    "def CMULT(a, m, bits):\n",
    "    cr = QuantumRegister(1, 'c')\n",
    "    xr = QuantumRegister(bits, 'x')\n",
    "    br = QuantumRegister(bits, 'b')\n",
    "    vr = QuantumRegister(1, 'v')\n",
    "    ar = QuantumRegister(1, 'a')\n",
    "    qc = QuantumCircuit(cr, xr, br, vr, ar)\n",
    "    qc.append(AFFMULT(a, m, bits), range(3 + 2 * bits))\n",
    "    qc.append(CSWAPREG(bits), range(1 + 2 * bits))\n",
    "    qc.append(AFFMULT(a, m, bits).inverse(), range(3 + 2 * bits))\n",
    "    a = qc.to_instruction()\n",
    "    a.name = \"c_MULT\"\n",
    "    return a\n"
   ],
   "outputs": [],
   "metadata": {}
  },
  {
   "cell_type": "code",
   "execution_count": 19,
   "source": [
    "def test_CMULT(x, a, m, bits):\n",
    "    cr = QuantumRegister(1, 'c')\n",
    "    xr = QuantumRegister(bits, 'x')\n",
    "    br = QuantumRegister(bits, 'b')\n",
    "    vr = QuantumRegister(1, 'v')\n",
    "    ar = QuantumRegister(1, 'a')\n",
    "    qc = QuantumCircuit(cr, xr, br, vr, ar)\n",
    "    binx = bin(x)[2:]\n",
    "    qc.x(cr[0])\n",
    "    while len(binx) < bits:\n",
    "        binx = '0' + binx\n",
    "    for bit in range(len(binx)):\n",
    "        if binx[bit] == '1':\n",
    "            qc.x(xr[bits - bit - 1])\n",
    "    qc.append(CMULT(a, m, bits), range(3 + 2 * bits))\n",
    "    qc.measure_all()\n",
    "    return qc\n",
    "a = test_CMULT(3, 4, 5, 4)"
   ],
   "outputs": [],
   "metadata": {}
  },
  {
   "cell_type": "code",
   "execution_count": 20,
   "source": [
    "q_comp = transpile(a, backend)\n",
    "job = backend.run(q_comp, shots = 10)\n",
    "result = job.result()\n",
    "result.get_counts(q_comp)"
   ],
   "outputs": [
    {
     "output_type": "execute_result",
     "data": {
      "text/plain": [
       "{'00000000101': 10}"
      ]
     },
     "metadata": {},
     "execution_count": 20
    }
   ],
   "metadata": {}
  },
  {
   "cell_type": "code",
   "execution_count": 23,
   "source": [
    "def PCMULT(a, m, power, bits):\n",
    "    cr = QuantumRegister(1, 'c')\n",
    "    xr = QuantumRegister(bits, 'x')\n",
    "    br = QuantumRegister(bits, 'b')\n",
    "    vr = QuantumRegister(1, 'v')\n",
    "    ar = QuantumRegister(1, 'a')\n",
    "    qc = QuantumCircuit(cr, xr, br, vr, ar)\n",
    "    for i in range(power):\n",
    "        qc.append(CMULT(a, m, bits), range(2 * bits + 3))\n",
    "    return qc"
   ],
   "outputs": [],
   "metadata": {}
  },
  {
   "cell_type": "code",
   "execution_count": 24,
   "source": [
    "def test_PCMULT(x, a, m, power, bits):\n",
    "    cr = QuantumRegister(1, 'c')\n",
    "    xr = QuantumRegister(bits, 'x')\n",
    "    br = QuantumRegister(bits, 'b')\n",
    "    vr = QuantumRegister(1, 'v')\n",
    "    ar = QuantumRegister(1, 'a')\n",
    "    qc = QuantumCircuit(cr, xr, br, vr, ar)\n",
    "    binx = bin(x)[2:]\n",
    "    qc.x(cr[0])\n",
    "    while len(binx) < bits:\n",
    "        binx = '0' + binx\n",
    "    for bit in range(len(binx)):\n",
    "        if binx[bit] == '1':\n",
    "            qc.x(xr[bits - bit - 1])\n",
    "    qc.append(PCMULT(a, m, power, bits), range(3 + 2 * bits))\n",
    "    qc.measure_all()\n",
    "    return qc\n",
    "a = test_PCMULT(3, 4, 5, 2, 4)\n",
    "a.draw()"
   ],
   "outputs": [
    {
     "output_type": "execute_result",
     "data": {
      "text/plain": [
       "         ┌───┐┌─────────────────┐ ░ ┌─┐                              \n",
       "    c_0: ┤ X ├┤0                ├─░─┤M├──────────────────────────────\n",
       "         ├───┤│                 │ ░ └╥┘┌─┐                           \n",
       "    x_0: ┤ X ├┤1                ├─░──╫─┤M├───────────────────────────\n",
       "         ├───┤│                 │ ░  ║ └╥┘┌─┐                        \n",
       "    x_1: ┤ X ├┤2                ├─░──╫──╫─┤M├────────────────────────\n",
       "         └───┘│                 │ ░  ║  ║ └╥┘┌─┐                     \n",
       "    x_2: ─────┤3                ├─░──╫──╫──╫─┤M├─────────────────────\n",
       "              │                 │ ░  ║  ║  ║ └╥┘┌─┐                  \n",
       "    x_3: ─────┤4                ├─░──╫──╫──╫──╫─┤M├──────────────────\n",
       "              │                 │ ░  ║  ║  ║  ║ └╥┘┌─┐               \n",
       "    b_0: ─────┤5  circuit-22871 ├─░──╫──╫──╫──╫──╫─┤M├───────────────\n",
       "              │                 │ ░  ║  ║  ║  ║  ║ └╥┘┌─┐            \n",
       "    b_1: ─────┤6                ├─░──╫──╫──╫──╫──╫──╫─┤M├────────────\n",
       "              │                 │ ░  ║  ║  ║  ║  ║  ║ └╥┘┌─┐         \n",
       "    b_2: ─────┤7                ├─░──╫──╫──╫──╫──╫──╫──╫─┤M├─────────\n",
       "              │                 │ ░  ║  ║  ║  ║  ║  ║  ║ └╥┘┌─┐      \n",
       "    b_3: ─────┤8                ├─░──╫──╫──╫──╫──╫──╫──╫──╫─┤M├──────\n",
       "              │                 │ ░  ║  ║  ║  ║  ║  ║  ║  ║ └╥┘┌─┐   \n",
       "    v_0: ─────┤9                ├─░──╫──╫──╫──╫──╫──╫──╫──╫──╫─┤M├───\n",
       "              │                 │ ░  ║  ║  ║  ║  ║  ║  ║  ║  ║ └╥┘┌─┐\n",
       "    a_0: ─────┤10               ├─░──╫──╫──╫──╫──╫──╫──╫──╫──╫──╫─┤M├\n",
       "              └─────────────────┘ ░  ║  ║  ║  ║  ║  ║  ║  ║  ║  ║ └╥┘\n",
       "meas: 11/════════════════════════════╩══╩══╩══╩══╩══╩══╩══╩══╩══╩══╩═\n",
       "                                     0  1  2  3  4  5  6  7  8  9  10"
      ],
      "text/html": [
       "<pre style=\"word-wrap: normal;white-space: pre;background: #fff0;line-height: 1.1;font-family: &quot;Courier New&quot;,Courier,monospace\">         ┌───┐┌─────────────────┐ ░ ┌─┐                              \n",
       "    c_0: ┤ X ├┤0                ├─░─┤M├──────────────────────────────\n",
       "         ├───┤│                 │ ░ └╥┘┌─┐                           \n",
       "    x_0: ┤ X ├┤1                ├─░──╫─┤M├───────────────────────────\n",
       "         ├───┤│                 │ ░  ║ └╥┘┌─┐                        \n",
       "    x_1: ┤ X ├┤2                ├─░──╫──╫─┤M├────────────────────────\n",
       "         └───┘│                 │ ░  ║  ║ └╥┘┌─┐                     \n",
       "    x_2: ─────┤3                ├─░──╫──╫──╫─┤M├─────────────────────\n",
       "              │                 │ ░  ║  ║  ║ └╥┘┌─┐                  \n",
       "    x_3: ─────┤4                ├─░──╫──╫──╫──╫─┤M├──────────────────\n",
       "              │                 │ ░  ║  ║  ║  ║ └╥┘┌─┐               \n",
       "    b_0: ─────┤5  circuit-22871 ├─░──╫──╫──╫──╫──╫─┤M├───────────────\n",
       "              │                 │ ░  ║  ║  ║  ║  ║ └╥┘┌─┐            \n",
       "    b_1: ─────┤6                ├─░──╫──╫──╫──╫──╫──╫─┤M├────────────\n",
       "              │                 │ ░  ║  ║  ║  ║  ║  ║ └╥┘┌─┐         \n",
       "    b_2: ─────┤7                ├─░──╫──╫──╫──╫──╫──╫──╫─┤M├─────────\n",
       "              │                 │ ░  ║  ║  ║  ║  ║  ║  ║ └╥┘┌─┐      \n",
       "    b_3: ─────┤8                ├─░──╫──╫──╫──╫──╫──╫──╫──╫─┤M├──────\n",
       "              │                 │ ░  ║  ║  ║  ║  ║  ║  ║  ║ └╥┘┌─┐   \n",
       "    v_0: ─────┤9                ├─░──╫──╫──╫──╫──╫──╫──╫──╫──╫─┤M├───\n",
       "              │                 │ ░  ║  ║  ║  ║  ║  ║  ║  ║  ║ └╥┘┌─┐\n",
       "    a_0: ─────┤10               ├─░──╫──╫──╫──╫──╫──╫──╫──╫──╫──╫─┤M├\n",
       "              └─────────────────┘ ░  ║  ║  ║  ║  ║  ║  ║  ║  ║  ║ └╥┘\n",
       "meas: 11/════════════════════════════╩══╩══╩══╩══╩══╩══╩══╩══╩══╩══╩═\n",
       "                                     0  1  2  3  4  5  6  7  8  9  10</pre>"
      ]
     },
     "metadata": {},
     "execution_count": 24
    }
   ],
   "metadata": {}
  },
  {
   "cell_type": "code",
   "execution_count": 25,
   "source": [
    "q_comp = transpile(a, backend)\n",
    "job = backend.run(q_comp, shots = 10)\n",
    "result = job.result()\n",
    "result.get_counts(q_comp)"
   ],
   "outputs": [
    {
     "output_type": "execute_result",
     "data": {
      "text/plain": [
       "{'00000000101': 10}"
      ]
     },
     "metadata": {},
     "execution_count": 25
    }
   ],
   "metadata": {}
  },
  {
   "cell_type": "code",
   "execution_count": null,
   "source": [],
   "outputs": [],
   "metadata": {}
  }
 ]
}