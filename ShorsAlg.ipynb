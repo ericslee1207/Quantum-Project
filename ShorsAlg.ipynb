{
 "metadata": {
  "language_info": {
   "codemirror_mode": {
    "name": "ipython",
    "version": 3
   },
   "file_extension": ".py",
   "mimetype": "text/x-python",
   "name": "python",
   "nbconvert_exporter": "python",
   "pygments_lexer": "ipython3",
   "version": "3.8.8"
  },
  "orig_nbformat": 4,
  "kernelspec": {
   "name": "python3",
   "display_name": "Python 3.8.8 64-bit ('base': conda)"
  },
  "interpreter": {
   "hash": "dca0ade3e726a953b501b15e8e990130d2b7799f14cfd9f4271676035ebe5511"
  }
 },
 "nbformat": 4,
 "nbformat_minor": 2,
 "cells": [
  {
   "cell_type": "code",
   "execution_count": 43,
   "metadata": {},
   "outputs": [],
   "source": [
    "from qiskit import QuantumRegister, ClassicalRegister, QuantumCircuit, Aer, transpile, assemble, circuit\n",
    "from qiskit.providers.aer import QasmSimulator\n",
    "from qiskit.visualization import plot_histogram\n",
    "import numpy as np"
   ]
  },
  {
   "cell_type": "code",
   "execution_count": 44,
   "metadata": {},
   "outputs": [],
   "source": [
    "def gcd(a,b):\n",
    "    if a < b:\n",
    "        return gcd(b,a)\n",
    "    if b == 0:\n",
    "        return a\n",
    "    return gcd(a%b, b)"
   ]
  },
  {
   "cell_type": "code",
   "execution_count": 45,
   "metadata": {},
   "outputs": [],
   "source": [
    "def mod_by_rep_square(num, repetitions, modulus):\n",
    "    for i in range(repetitions):\n",
    "        num = np.mod(num**2, modulus)\n",
    "    return num"
   ]
  },
  {
   "cell_type": "code",
   "execution_count": 46,
   "metadata": {},
   "outputs": [],
   "source": [
    "def exponent_to_factors(guess, exponent, num):\n",
    "    if r % 2 == 1:\n",
    "        return (1, num)\n",
    "    else:\n",
    "        return (gcd(guess ** exponent + 1, num), gcd(guess**exponent - 1, num))"
   ]
  },
  {
   "cell_type": "code",
   "execution_count": 47,
   "metadata": {},
   "outputs": [],
   "source": [
    "def classical_add(bits, add):\n",
    "    \"\"\" Creates a Quantum Circuit that increments a register of qubits in the Fourier Space by the parameter add \"\"\"\n",
    "    c_add = QuantumCircuit(bits)\n",
    "    bin_add = bin(add)[2:]\n",
    "    while len(bin_add) < bits:\n",
    "        bin_add = '0' + bin_add\n",
    "    for cbit in range(len(bin_add)):\n",
    "        if bin_add[cbit] == '1':\n",
    "            for qbit in range(bits):\n",
    "                c_add.p( (np.pi/(2**(cbit - qbit))), bits - qbit - 1)\n",
    "    return c_add\n",
    "def classical_add_gate(bits, add):\n",
    "    c_add = classical_add(bits, add).to_instruction()\n",
    "    c_add.name = \"add {}\".format(add)\n",
    "    return c_add\n",
    "def controlled_classical_add_gate(bits, add):\n",
    "    c_add = classical_add(bits, add)\n",
    "    c_add.name = \"add {}\".format(add)\n",
    "    return c_add.control(num_ctrl_qubits=1).to_instruction()"
   ]
  },
  {
   "cell_type": "code",
   "execution_count": 48,
   "metadata": {},
   "outputs": [],
   "source": [
    "def quantum_add(n1, n2, bits):\n",
    "    \"\"\" Use QFT, classical_add, and Inverse QFT to add two numbers \"\"\"\n",
    "    if n1 > (2**(bits - 2)) or n2 > (2**(bits - 2)):\n",
    "        raise OverflowError\n",
    "    bn1 = bin(n1)[2:]\n",
    "    while len(bn1) < bits:\n",
    "        bn1 = '0' + bn1\n",
    "    qr = QuantumRegister(bits, \"q\")\n",
    "    qc = QuantumCircuit(qr)\n",
    "    for bit in range(len(bn1)):\n",
    "        if bn1[bit] == '1':\n",
    "            qc.x(qr[bits - bit - 1])\n",
    "    where = []\n",
    "    for i in range(len(qr)):\n",
    "        where.append(qr[i])\n",
    "    qc.append(circuit.library.QFT(num_qubits = bits, do_swaps = False).to_instruction(), where)\n",
    "    qc.append(classical_add_gate(bits, n2), where)\n",
    "    qc.append(circuit.library.QFT(num_qubits = bits, do_swaps = False).inverse().to_instruction(), where)\n",
    "    qc.measure_all()\n",
    "    return qc"
   ]
  },
  {
   "cell_type": "code",
   "execution_count": 49,
   "metadata": {},
   "outputs": [
    {
     "output_type": "execute_result",
     "data": {
      "text/plain": [
       "        ┌───┐┌──────┐┌────────┐┌───────┐ ░ ┌─┐         \n",
       "   q_0: ┤ X ├┤0     ├┤0       ├┤0      ├─░─┤M├─────────\n",
       "        └───┘│      ││        ││       │ ░ └╥┘┌─┐      \n",
       "   q_1: ─────┤1     ├┤1       ├┤1      ├─░──╫─┤M├──────\n",
       "             │  qft ││  add 4 ││  iqft │ ░  ║ └╥┘┌─┐   \n",
       "   q_2: ─────┤2     ├┤2       ├┤2      ├─░──╫──╫─┤M├───\n",
       "             │      ││        ││       │ ░  ║  ║ └╥┘┌─┐\n",
       "   q_3: ─────┤3     ├┤3       ├┤3      ├─░──╫──╫──╫─┤M├\n",
       "             └──────┘└────────┘└───────┘ ░  ║  ║  ║ └╥┘\n",
       "meas: 4/════════════════════════════════════╩══╩══╩══╩═\n",
       "                                            0  1  2  3 "
      ],
      "text/html": "<pre style=\"word-wrap: normal;white-space: pre;background: #fff0;line-height: 1.1;font-family: &quot;Courier New&quot;,Courier,monospace\">        ┌───┐┌──────┐┌────────┐┌───────┐ ░ ┌─┐         \n   q_0: ┤ X ├┤0     ├┤0       ├┤0      ├─░─┤M├─────────\n        └───┘│      ││        ││       │ ░ └╥┘┌─┐      \n   q_1: ─────┤1     ├┤1       ├┤1      ├─░──╫─┤M├──────\n             │  qft ││  add 4 ││  iqft │ ░  ║ └╥┘┌─┐   \n   q_2: ─────┤2     ├┤2       ├┤2      ├─░──╫──╫─┤M├───\n             │      ││        ││       │ ░  ║  ║ └╥┘┌─┐\n   q_3: ─────┤3     ├┤3       ├┤3      ├─░──╫──╫──╫─┤M├\n             └──────┘└────────┘└───────┘ ░  ║  ║  ║ └╥┘\nmeas: 4/════════════════════════════════════╩══╩══╩══╩═\n                                            0  1  2  3 </pre>"
     },
     "metadata": {},
     "execution_count": 49
    }
   ],
   "source": [
    "q = quantum_add(1, 4, 4)\n",
    "q.draw()"
   ]
  },
  {
   "cell_type": "code",
   "execution_count": 50,
   "metadata": {},
   "outputs": [
    {
     "output_type": "execute_result",
     "data": {
      "text/plain": [
       "{'0101': 10}"
      ]
     },
     "metadata": {},
     "execution_count": 50
    }
   ],
   "source": [
    "backend = QasmSimulator()\n",
    "q_comp = transpile(q, backend)\n",
    "job = backend.run(q_comp, shots = 10)\n",
    "result = job.result()\n",
    "result.get_counts(q_comp)"
   ]
  },
  {
   "cell_type": "code",
   "execution_count": 51,
   "metadata": {},
   "outputs": [],
   "source": [
    "def modular_add(b, m, bits):\n",
    "    \"\"\" Use the Quantum_Add Gate to add to a number in the modular base \"\"\"\n",
    "    qr = QuantumRegister(bits, \"q\")\n",
    "    ar = QuantumRegister(1, \"a\")\n",
    "    qc = QuantumCircuit(qr, ar)\n",
    "    where = []\n",
    "    for i in range(bits):\n",
    "        where.append(qr[i])\n",
    "    qc.append(classical_add_gate(bits, b), where)\n",
    "    qc.append(classical_add_gate(bits, m).inverse(), where)\n",
    "    qc.append(circuit.library.QFT(num_qubits=bits, do_swaps=False).inverse().to_instruction(), where)\n",
    "    qc.cx(qr[bits-1],ar[0])\n",
    "    qc.append(circuit.library.QFT(num_qubits=bits, do_swaps=False).to_instruction(), where)\n",
    "    where2 = [ar[0]] + where\n",
    "    qc.append(controlled_classical_add_gate(bits, m), where2)\n",
    "    qc.append(classical_add_gate(bits, b).inverse(), where)\n",
    "    qc.append(circuit.library.QFT(num_qubits=bits, do_swaps=False).inverse().to_instruction(), where)\n",
    "    qc.x(qr[bits-1])\n",
    "    qc.cx(qr[bits-1],ar[0])\n",
    "    qc.x(qr[bits-1])\n",
    "    qc.append(circuit.library.QFT(num_qubits=bits, do_swaps=False).to_instruction(), where)\n",
    "    qc.append(classical_add_gate(bits, b), where)\n",
    "    return qc"
   ]
  },
  {
   "cell_type": "code",
   "execution_count": 52,
   "metadata": {},
   "outputs": [
    {
     "output_type": "execute_result",
     "data": {
      "text/plain": [
       "     ┌────────┐┌────────────┐┌───────┐     ┌──────┐┌───────────┐┌───────────┐»\n",
       "q_0: ┤0       ├┤0           ├┤0      ├─────┤0     ├┤1          ├┤0          ├»\n",
       "     │        ││            ││       │     │      ││           ││           │»\n",
       "q_1: ┤1       ├┤1           ├┤1      ├─────┤1     ├┤2          ├┤1          ├»\n",
       "     │        ││            ││       │     │      ││           ││           │»\n",
       "q_2: ┤2 add 4 ├┤2 add 10_dg ├┤2 iqft ├─────┤2 qft ├┤3          ├┤2 add 4_dg ├»\n",
       "     │        ││            ││       │     │      ││  c_add 10 ││           │»\n",
       "q_3: ┤3       ├┤3           ├┤3      ├─────┤3     ├┤4          ├┤3          ├»\n",
       "     │        ││            ││       │     │      ││           ││           │»\n",
       "q_4: ┤4       ├┤4           ├┤4      ├──■──┤4     ├┤5          ├┤4          ├»\n",
       "     └────────┘└────────────┘└───────┘┌─┴─┐└──────┘│           │└───────────┘»\n",
       "a_0: ─────────────────────────────────┤ X ├────────┤0          ├─────────────»\n",
       "                                      └───┘        └───────────┘             »\n",
       "«     ┌───────┐               ┌──────┐┌────────┐\n",
       "«q_0: ┤0      ├───────────────┤0     ├┤0       ├\n",
       "«     │       │               │      ││        │\n",
       "«q_1: ┤1      ├───────────────┤1     ├┤1       ├\n",
       "«     │       │               │      ││        │\n",
       "«q_2: ┤2 iqft ├───────────────┤2 qft ├┤2 add 4 ├\n",
       "«     │       │               │      ││        │\n",
       "«q_3: ┤3      ├───────────────┤3     ├┤3       ├\n",
       "«     │       │┌───┐     ┌───┐│      ││        │\n",
       "«q_4: ┤4      ├┤ X ├──■──┤ X ├┤4     ├┤4       ├\n",
       "«     └───────┘└───┘┌─┴─┐└───┘└──────┘└────────┘\n",
       "«a_0: ──────────────┤ X ├───────────────────────\n",
       "«                   └───┘                       "
      ],
      "text/html": "<pre style=\"word-wrap: normal;white-space: pre;background: #fff0;line-height: 1.1;font-family: &quot;Courier New&quot;,Courier,monospace\">     ┌────────┐┌────────────┐┌───────┐     ┌──────┐┌───────────┐┌───────────┐»\nq_0: ┤0       ├┤0           ├┤0      ├─────┤0     ├┤1          ├┤0          ├»\n     │        ││            ││       │     │      ││           ││           │»\nq_1: ┤1       ├┤1           ├┤1      ├─────┤1     ├┤2          ├┤1          ├»\n     │        ││            ││       │     │      ││           ││           │»\nq_2: ┤2 add 4 ├┤2 add 10_dg ├┤2 iqft ├─────┤2 qft ├┤3          ├┤2 add 4_dg ├»\n     │        ││            ││       │     │      ││  c_add 10 ││           │»\nq_3: ┤3       ├┤3           ├┤3      ├─────┤3     ├┤4          ├┤3          ├»\n     │        ││            ││       │     │      ││           ││           │»\nq_4: ┤4       ├┤4           ├┤4      ├──■──┤4     ├┤5          ├┤4          ├»\n     └────────┘└────────────┘└───────┘┌─┴─┐└──────┘│           │└───────────┘»\na_0: ─────────────────────────────────┤ X ├────────┤0          ├─────────────»\n                                      └───┘        └───────────┘             »\n«     ┌───────┐               ┌──────┐┌────────┐\n«q_0: ┤0      ├───────────────┤0     ├┤0       ├\n«     │       │               │      ││        │\n«q_1: ┤1      ├───────────────┤1     ├┤1       ├\n«     │       │               │      ││        │\n«q_2: ┤2 iqft ├───────────────┤2 qft ├┤2 add 4 ├\n«     │       │               │      ││        │\n«q_3: ┤3      ├───────────────┤3     ├┤3       ├\n«     │       │┌───┐     ┌───┐│      ││        │\n«q_4: ┤4      ├┤ X ├──■──┤ X ├┤4     ├┤4       ├\n«     └───────┘└───┘┌─┴─┐└───┘└──────┘└────────┘\n«a_0: ──────────────┤ X ├───────────────────────\n«                   └───┘                       </pre>"
     },
     "metadata": {},
     "execution_count": 52
    }
   ],
   "source": [
    "q = modular_add(4, 10, 5)\n",
    "q.draw()"
   ]
  },
  {
   "cell_type": "code",
   "execution_count": 99,
   "metadata": {},
   "outputs": [
    {
     "output_type": "execute_result",
     "data": {
      "text/plain": [
       "        ┌───┐┌──────┐┌───────────────┐┌───────┐ ░ ┌─┐                  \n",
       "   q_0: ┤ X ├┤0     ├┤0              ├┤0      ├─░─┤M├──────────────────\n",
       "        └───┘│      ││               ││       │ ░ └╥┘┌─┐               \n",
       "   q_1: ─────┤1     ├┤1              ├┤1      ├─░──╫─┤M├───────────────\n",
       "             │      ││               ││       │ ░  ║ └╥┘┌─┐            \n",
       "   q_2: ─────┤2     ├┤2              ├┤2      ├─░──╫──╫─┤M├────────────\n",
       "             │  qft ││               ││  iqft │ ░  ║  ║ └╥┘┌─┐         \n",
       "   q_3: ─────┤3     ├┤3 circuit-6826 ├┤3      ├─░──╫──╫──╫─┤M├─────────\n",
       "             │      ││               ││       │ ░  ║  ║  ║ └╥┘┌─┐      \n",
       "   q_4: ─────┤4     ├┤4              ├┤4      ├─░──╫──╫──╫──╫─┤M├──────\n",
       "             │      ││               ││       │ ░  ║  ║  ║  ║ └╥┘┌─┐   \n",
       "   q_5: ─────┤5     ├┤5              ├┤5      ├─░──╫──╫──╫──╫──╫─┤M├───\n",
       "             └──────┘│               │└───────┘ ░  ║  ║  ║  ║  ║ └╥┘┌─┐\n",
       "   a_0: ─────────────┤6              ├──────────░──╫──╫──╫──╫──╫──╫─┤M├\n",
       "                     └───────────────┘          ░  ║  ║  ║  ║  ║  ║ └╥┘\n",
       "meas: 7/═══════════════════════════════════════════╩══╩══╩══╩══╩══╩══╩═\n",
       "                                                   0  1  2  3  4  5  6 "
      ],
      "text/html": "<pre style=\"word-wrap: normal;white-space: pre;background: #fff0;line-height: 1.1;font-family: &quot;Courier New&quot;,Courier,monospace\">        ┌───┐┌──────┐┌───────────────┐┌───────┐ ░ ┌─┐                  \n   q_0: ┤ X ├┤0     ├┤0              ├┤0      ├─░─┤M├──────────────────\n        └───┘│      ││               ││       │ ░ └╥┘┌─┐               \n   q_1: ─────┤1     ├┤1              ├┤1      ├─░──╫─┤M├───────────────\n             │      ││               ││       │ ░  ║ └╥┘┌─┐            \n   q_2: ─────┤2     ├┤2              ├┤2      ├─░──╫──╫─┤M├────────────\n             │  qft ││               ││  iqft │ ░  ║  ║ └╥┘┌─┐         \n   q_3: ─────┤3     ├┤3 circuit-6826 ├┤3      ├─░──╫──╫──╫─┤M├─────────\n             │      ││               ││       │ ░  ║  ║  ║ └╥┘┌─┐      \n   q_4: ─────┤4     ├┤4              ├┤4      ├─░──╫──╫──╫──╫─┤M├──────\n             │      ││               ││       │ ░  ║  ║  ║  ║ └╥┘┌─┐   \n   q_5: ─────┤5     ├┤5              ├┤5      ├─░──╫──╫──╫──╫──╫─┤M├───\n             └──────┘│               │└───────┘ ░  ║  ║  ║  ║  ║ └╥┘┌─┐\n   a_0: ─────────────┤6              ├──────────░──╫──╫──╫──╫──╫──╫─┤M├\n                     └───────────────┘          ░  ║  ║  ║  ║  ║  ║ └╥┘\nmeas: 7/═══════════════════════════════════════════╩══╩══╩══╩══╩══╩══╩═\n                                                   0  1  2  3  4  5  6 </pre>"
     },
     "metadata": {},
     "execution_count": 99
    }
   ],
   "source": [
    "def test_ma_gate(a, b, m, bits):\n",
    "    bina = bin(a)[2:]\n",
    "    while(len(bina) < bits):\n",
    "        bina = '0' + bina\n",
    "    qr = QuantumRegister(bits, \"q\")\n",
    "    ar = QuantumRegister(1, \"a\")\n",
    "    qc = QuantumCircuit(qr, ar)\n",
    "    for bit in range(len(bina)):\n",
    "        if bina[bit] == '1':\n",
    "            qc.x(qr[bits - bit - 1])\n",
    "    where = []\n",
    "    for i in range(len(qr)):\n",
    "        where.append(qr[i])\n",
    "    qc.append(circuit.library.QFT(num_qubits=bits, do_swaps=False).to_instruction(), where)\n",
    "    where2 = where + [ar[0]]\n",
    "    qc.append(modular_add(b, m, bits).to_instruction(), where2)\n",
    "    qc.append(circuit.library.QFT(num_qubits=bits, do_swaps=False).inverse().to_instruction(), where)\n",
    "    qc.measure_all()\n",
    "    return qc\n",
    "q = test_ma_gate(1,4,6,6)\n",
    "q.draw()\n",
    "    "
   ]
  },
  {
   "cell_type": "code",
   "execution_count": 54,
   "metadata": {},
   "outputs": [
    {
     "output_type": "execute_result",
     "data": {
      "text/plain": [
       "{'0000101': 10}"
      ]
     },
     "metadata": {},
     "execution_count": 54
    }
   ],
   "source": [
    "q_comp = transpile(q, backend)\n",
    "job = backend.run(q_comp, shots = 10)\n",
    "result = job.result()\n",
    "result.get_counts(q_comp)"
   ]
  },
  {
   "cell_type": "code",
   "execution_count": 97,
   "metadata": {},
   "outputs": [],
   "source": [
    "def dcma_gate(b, m, bits):\n",
    "    qc = modular_add(b, m, bits)\n",
    "    qc = qc.decompose()\n",
    "    qc.name = \"add {} mod {}\".format(b, m)\n",
    "    return qc.control(num_ctrl_qubits = 2)"
   ]
  },
  {
   "cell_type": "code",
   "execution_count": 98,
   "metadata": {},
   "outputs": [
    {
     "output_type": "execute_result",
     "data": {
      "text/plain": [
       "                        \n",
       "q387_0: ───────■────────\n",
       "               │        \n",
       "q387_1: ───────■────────\n",
       "        ┌──────┴───────┐\n",
       "   q_0: ┤0             ├\n",
       "        │              │\n",
       "   q_1: ┤1             ├\n",
       "        │              │\n",
       "   q_2: ┤2             ├\n",
       "        │              │\n",
       "   q_3: ┤3             ├\n",
       "        │  add 2 mod 4 │\n",
       "   q_4: ┤4             ├\n",
       "        │              │\n",
       "   q_5: ┤5             ├\n",
       "        │              │\n",
       "   q_6: ┤6             ├\n",
       "        │              │\n",
       "   a_0: ┤7             ├\n",
       "        └──────────────┘"
      ],
      "text/html": "<pre style=\"word-wrap: normal;white-space: pre;background: #fff0;line-height: 1.1;font-family: &quot;Courier New&quot;,Courier,monospace\">                        \nq387_0: ───────■────────\n               │        \nq387_1: ───────■────────\n        ┌──────┴───────┐\n   q_0: ┤0             ├\n        │              │\n   q_1: ┤1             ├\n        │              │\n   q_2: ┤2             ├\n        │              │\n   q_3: ┤3             ├\n        │  add 2 mod 4 │\n   q_4: ┤4             ├\n        │              │\n   q_5: ┤5             ├\n        │              │\n   q_6: ┤6             ├\n        │              │\n   a_0: ┤7             ├\n        └──────────────┘</pre>"
     },
     "metadata": {},
     "execution_count": 98
    }
   ],
   "source": [
    "qc = dcma_gate(2, 4, 7)\n",
    "qc.draw()"
   ]
  },
  {
   "cell_type": "code",
   "execution_count": null,
   "metadata": {},
   "outputs": [],
   "source": [
    "def (a, m, bits)"
   ]
  }
 ]
}