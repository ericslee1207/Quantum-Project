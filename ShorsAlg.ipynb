{
 "metadata": {
  "language_info": {
   "codemirror_mode": {
    "name": "ipython",
    "version": 3
   },
   "file_extension": ".py",
   "mimetype": "text/x-python",
   "name": "python",
   "nbconvert_exporter": "python",
   "pygments_lexer": "ipython3",
   "version": "3.8.8"
  },
  "orig_nbformat": 4,
  "kernelspec": {
   "name": "python3",
   "display_name": "Python 3.8.8 64-bit ('base': conda)"
  },
  "interpreter": {
   "hash": "dca0ade3e726a953b501b15e8e990130d2b7799f14cfd9f4271676035ebe5511"
  }
 },
 "nbformat": 4,
 "nbformat_minor": 2,
 "cells": [
  {
   "cell_type": "code",
   "execution_count": 1,
   "metadata": {},
   "outputs": [],
   "source": [
    "from qiskit import QuantumRegister, ClassicalRegister, QuantumCircuit, Aer, transpile, assemble, circuit\n",
    "from qiskit.providers.aer import QasmSimulator\n",
    "from qiskit.visualization import plot_histogram\n",
    "import numpy as np"
   ]
  },
  {
   "cell_type": "code",
   "execution_count": 2,
   "metadata": {},
   "outputs": [],
   "source": [
    "def gcd(a,b):\n",
    "    if a < b:\n",
    "        return gcd(b,a)\n",
    "    if b == 0:\n",
    "        return a\n",
    "    return gcd(a%b, b)"
   ]
  },
  {
   "cell_type": "code",
   "execution_count": 3,
   "metadata": {},
   "outputs": [],
   "source": [
    "def mod_by_rep_square(num, repetitions, modulus):\n",
    "    for i in range(repetitions):\n",
    "        num = np.mod(num**2, modulus)\n",
    "    return num"
   ]
  },
  {
   "cell_type": "code",
   "execution_count": 4,
   "metadata": {},
   "outputs": [],
   "source": [
    "def exponent_to_factors(guess, exponent, num):\n",
    "    if r % 2 == 1:\n",
    "        return (1, num)\n",
    "    else:\n",
    "        return (gcd(guess ** exponent + 1, num), gcd(guess**exponent - 1, num))"
   ]
  },
  {
   "cell_type": "code",
   "execution_count": 31,
   "metadata": {},
   "outputs": [
    {
     "output_type": "execute_result",
     "data": {
      "text/plain": [
       "     ┌────────┐\n",
       "q_0: ┤ P(π/4) ├\n",
       "     ├────────┤\n",
       "q_1: ┤ P(π/2) ├\n",
       "     └┬──────┬┘\n",
       "q_2: ─┤ P(π) ├─\n",
       "     ┌┴──────┤ \n",
       "q_3: ┤ P(2π) ├─\n",
       "     └───────┘ "
      ],
      "text/html": "<pre style=\"word-wrap: normal;white-space: pre;background: #fff0;line-height: 1.1;font-family: &quot;Courier New&quot;,Courier,monospace\">     ┌────────┐\nq_0: ┤ P(π/4) ├\n     ├────────┤\nq_1: ┤ P(π/2) ├\n     └┬──────┬┘\nq_2: ─┤ P(π) ├─\n     ┌┴──────┤ \nq_3: ┤ P(2π) ├─\n     └───────┘ </pre>"
     },
     "metadata": {},
     "execution_count": 31
    }
   ],
   "source": [
    "def classical_add(bits, add):\n",
    "    \"\"\" Creates a Quantum Circuit that increments a register of qubits in the Fourier Basis by the parameter add \"\"\"\n",
    "    c_add = QuantumCircuit(bits)\n",
    "    bin_add = bin(add)[2:]\n",
    "    while len(bin_add) < bits:\n",
    "        bin_add = '0' + bin_add\n",
    "    for cbit in range(len(bin_add)):\n",
    "        if bin_add[cbit] == '1':\n",
    "            for qbit in range(bits):\n",
    "                c_add.p( (np.pi/(2**(cbit - qbit))), qbit)\n",
    "    return c_add\n",
    "def classical_add_gate(bits, add):\n",
    "    c_add = classical_add(bits, add).to_instruction()\n",
    "    c_add.name = \"c_add\"\n",
    "    return c_add\n",
    "c = classical_add(4, 2)\n",
    "c.draw()"
   ]
  },
  {
   "cell_type": "code",
   "execution_count": 32,
   "metadata": {},
   "outputs": [],
   "source": [
    "def quantum_add(n1, n2, bits):\n",
    "    \"\"\" Use QFT, classical_add, and Inverse QFT to add two numbers \"\"\"\n",
    "    if n1 > (2**(bits - 2)) or n2 > (2**(bits - 2)):\n",
    "        raise OverflowError\n",
    "    bn1 = bin(n1)[2:]\n",
    "    while len(bn1) < bits:\n",
    "        bn1 = '0' + bn1\n",
    "    qr = QuantumRegister(bits, \"q\")\n",
    "    qc = QuantumCircuit(qr)\n",
    "    for bit in range(len(bn1)):\n",
    "        if bn1[bit] == '1':\n",
    "            qc.x(qr[bits - bit - 1])\n",
    "    where = []\n",
    "    for i in range(len(qr)):\n",
    "        where.append(qr[i])\n",
    "    qc.append(circuit.library.QFT(num_qubits = bits, do_swaps = True).to_instruction(), where)\n",
    "    qc.append(classical_add_gate(bits, n2), where)\n",
    "    qc.append(circuit.library.QFT(num_qubits = bits, do_swaps = True, inverse = True).to_instruction(), where)\n",
    "    qc.measure_all()\n",
    "    return qc"
   ]
  },
  {
   "cell_type": "code",
   "execution_count": 39,
   "metadata": {},
   "outputs": [
    {
     "output_type": "execute_result",
     "data": {
      "text/plain": [
       "        ┌───┐┌──────┐┌────────┐┌──────┐ ░ ┌─┐         \n",
       "   q_0: ┤ X ├┤0     ├┤0       ├┤0     ├─░─┤M├─────────\n",
       "        └───┘│      ││        ││      │ ░ └╥┘┌─┐      \n",
       "   q_1: ─────┤1     ├┤1       ├┤1     ├─░──╫─┤M├──────\n",
       "             │  qft ││  c_add ││  qft │ ░  ║ └╥┘┌─┐   \n",
       "   q_2: ─────┤2     ├┤2       ├┤2     ├─░──╫──╫─┤M├───\n",
       "             │      ││        ││      │ ░  ║  ║ └╥┘┌─┐\n",
       "   q_3: ─────┤3     ├┤3       ├┤3     ├─░──╫──╫──╫─┤M├\n",
       "             └──────┘└────────┘└──────┘ ░  ║  ║  ║ └╥┘\n",
       "meas: 4/═══════════════════════════════════╩══╩══╩══╩═\n",
       "                                           0  1  2  3 "
      ],
      "text/html": "<pre style=\"word-wrap: normal;white-space: pre;background: #fff0;line-height: 1.1;font-family: &quot;Courier New&quot;,Courier,monospace\">        ┌───┐┌──────┐┌────────┐┌──────┐ ░ ┌─┐         \n   q_0: ┤ X ├┤0     ├┤0       ├┤0     ├─░─┤M├─────────\n        └───┘│      ││        ││      │ ░ └╥┘┌─┐      \n   q_1: ─────┤1     ├┤1       ├┤1     ├─░──╫─┤M├──────\n             │  qft ││  c_add ││  qft │ ░  ║ └╥┘┌─┐   \n   q_2: ─────┤2     ├┤2       ├┤2     ├─░──╫──╫─┤M├───\n             │      ││        ││      │ ░  ║  ║ └╥┘┌─┐\n   q_3: ─────┤3     ├┤3       ├┤3     ├─░──╫──╫──╫─┤M├\n             └──────┘└────────┘└──────┘ ░  ║  ║  ║ └╥┘\nmeas: 4/═══════════════════════════════════╩══╩══╩══╩═\n                                           0  1  2  3 </pre>"
     },
     "metadata": {},
     "execution_count": 39
    }
   ],
   "source": [
    "q = quantum_add(1, 4, 4)\n",
    "q.draw()"
   ]
  },
  {
   "cell_type": "code",
   "execution_count": 43,
   "metadata": {},
   "outputs": [
    {
     "output_type": "execute_result",
     "data": {
      "text/plain": [
       "{'0101': 10}"
      ]
     },
     "metadata": {},
     "execution_count": 43
    }
   ],
   "source": [
    "backend = QasmSimulator()\n",
    "q_comp = transpile(q, backend)\n",
    "job = backend.run(q_comp, shots = 10)\n",
    "result = job.result()\n",
    "result.get_counts(q_comp)"
   ]
  },
  {
   "cell_type": "code",
   "execution_count": null,
   "metadata": {},
   "outputs": [],
   "source": []
  }
 ]
}