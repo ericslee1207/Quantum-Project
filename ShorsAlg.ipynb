{
 "metadata": {
  "language_info": {
   "codemirror_mode": {
    "name": "ipython",
    "version": 3
   },
   "file_extension": ".py",
   "mimetype": "text/x-python",
   "name": "python",
   "nbconvert_exporter": "python",
   "pygments_lexer": "ipython3",
   "version": "3.8.5"
  },
  "orig_nbformat": 4,
  "kernelspec": {
   "name": "python3",
   "display_name": "Python 3.8.5 64-bit ('base': conda)"
  },
  "interpreter": {
   "hash": "cce2e53ebfc21b5a52c21ad89d3a4bd620b6d38aea2d6753aa807f2a4302999a"
  }
 },
 "nbformat": 4,
 "nbformat_minor": 2,
 "cells": [
  {
   "cell_type": "code",
   "execution_count": 16,
   "metadata": {},
   "outputs": [],
   "source": [
    "# Steps:\n",
    "# 1. g^p = mN + 1\n",
    "# 2. factors: g^(p/2) + 1 , g^(p/2) - 1\n",
    "# 3. find p using quantum circuits. p has to be even and cannot be a multiple of N\n",
    "# 4. Substitute p to get numbers that share common factors with N\n",
    "# 5. Use Euclid's algorithm to find GCF between the factors and N. This will be the prime factors."
   ]
  },
  {
   "cell_type": "code",
   "execution_count": 27,
   "metadata": {},
   "outputs": [],
   "source": [
    "import numpy as np\n",
    "from qiskit import QuantumCircuit, QuantumRegister, Aer\n",
    "from qiskit.visualization import plot_histogram"
   ]
  },
  {
   "cell_type": "code",
   "execution_count": 28,
   "metadata": {},
   "outputs": [],
   "source": [
    "#Euclid's Algorithm\n",
    "def findGCF(a, b):\n",
    "    if (a == 0):\n",
    "        return b\n",
    "    if (b == 0):\n",
    "        return a\n",
    "    if (a == b):\n",
    "        return 1\n",
    "    \n",
    "    if (a > b):\n",
    "        return findGCF(b, a%b)\n",
    "    else:\n",
    "        return findGCF(a, b%a)"
   ]
  },
  {
   "cell_type": "code",
   "execution_count": 26,
   "metadata": {},
   "outputs": [],
   "source": [
    "def getPrimeFactors(n):\n",
    "    p = -1\n",
    "    max_iterations = 10\n",
    "    prime_factor_1 = -1\n",
    "    prime_factor_2 = -1\n",
    "    \n",
    "    while (prime_factor_1==-1 or prime_factor_2==-1):\n",
    "        #initial random guess\n",
    "        g = np.random.randint(10,100)\n",
    "        #find p\n",
    "        if (p%2==0):\n",
    "            factor_1 = g**(p/2) + 1\n",
    "            factor_2 = g**(p/2) - 1\n",
    "            prime_factor_1 = findGCF(factor_1, n)\n",
    "            prime_factor_2 = findGCF(factor_2, n)\n",
    "\n",
    "    return (prime_factor_1, prime_factor_2)"
   ]
  },
  {
   "cell_type": "code",
   "execution_count": null,
   "metadata": {},
   "outputs": [],
   "source": []
  }
 ]
}